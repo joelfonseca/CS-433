{
 "cells": [
  {
   "cell_type": "code",
   "execution_count": 68,
   "metadata": {},
   "outputs": [
    {
     "name": "stdout",
     "output_type": "stream",
     "text": [
      "The autoreload extension is already loaded. To reload it, use:\n",
      "  %reload_ext autoreload\n"
     ]
    }
   ],
   "source": [
    "from implementations import *\n",
    "from proj1_helpers import *\n",
    "\n",
    "import numpy as np\n",
    "import random\n",
    "from tqdm import tqdm_notebook\n",
    "\n",
    "%load_ext autoreload"
   ]
  },
  {
   "cell_type": "code",
   "execution_count": 69,
   "metadata": {
    "collapsed": true
   },
   "outputs": [],
   "source": [
    "%autoreload 2"
   ]
  },
  {
   "cell_type": "code",
   "execution_count": 3,
   "metadata": {
    "collapsed": true
   },
   "outputs": [],
   "source": [
    "LOWER_BOUND = -1\n",
    "UPPER_BOUND = 1"
   ]
  },
  {
   "cell_type": "markdown",
   "metadata": {},
   "source": [
    "# Import data"
   ]
  },
  {
   "cell_type": "code",
   "execution_count": 4,
   "metadata": {
    "collapsed": true
   },
   "outputs": [],
   "source": [
    "DATA_FOLDER = \"competition-data/\"\n",
    "DATA_TEST = \"test.csv\"\n",
    "DATA_TRAIN = \"train.csv\"\n",
    "\n",
    "y_train, x_train, ids_train = load_csv_data(DATA_FOLDER + DATA_TRAIN, LOWER_BOUND, UPPER_BOUND)\n",
    "y_test, x_test, ids_test = load_csv_data(DATA_FOLDER + DATA_TEST, LOWER_BOUND, UPPER_BOUND)"
   ]
  },
  {
   "cell_type": "code",
   "execution_count": 76,
   "metadata": {
    "collapsed": true
   },
   "outputs": [],
   "source": [
    "tx_train = x_train.T\n",
    "tx_test = x_test.T"
   ]
  },
  {
   "cell_type": "code",
   "execution_count": 77,
   "metadata": {},
   "outputs": [
    {
     "data": {
      "text/plain": [
       "array([[ 138.47 ,  160.937,      nan, ...,  105.457,   94.951,      nan],\n",
       "       [  51.655,   68.768,  162.172, ...,   60.526,   19.362,   72.756],\n",
       "       [  97.827,  103.235,  125.953, ...,   75.839,   68.812,   70.831],\n",
       "       ..., \n",
       "       [   1.24 ,      nan,      nan, ...,      nan,      nan,      nan],\n",
       "       [  -2.475,      nan,      nan, ...,      nan,      nan,      nan],\n",
       "       [ 113.497,   46.226,   44.251, ...,   41.992,    0.   ,    0.   ]])"
      ]
     },
     "execution_count": 77,
     "metadata": {},
     "output_type": "execute_result"
    }
   ],
   "source": [
    "tx_train"
   ]
  },
  {
   "cell_type": "markdown",
   "metadata": {},
   "source": [
    "# Cleaning data"
   ]
  },
  {
   "cell_type": "code",
   "execution_count": 78,
   "metadata": {},
   "outputs": [
    {
     "data": {
      "text/plain": [
       "(23, 568238)"
      ]
     },
     "execution_count": 78,
     "metadata": {},
     "output_type": "execute_result"
    }
   ],
   "source": [
    "tx_train, idx_to_del = delete_features(tx_train, 0.7)\n",
    "tx_test = delete_features_from_idx(tx_test, idx_to_del)\n",
    "tx_train.shape\n",
    "tx_test.shape"
   ]
  },
  {
   "cell_type": "code",
   "execution_count": 79,
   "metadata": {},
   "outputs": [
    {
     "name": "stdout",
     "output_type": "stream",
     "text": [
      "[4, 5, 6, 12, 26, 27, 28]\n"
     ]
    }
   ],
   "source": [
    "print(idx_to_del)"
   ]
  },
  {
   "cell_type": "code",
   "execution_count": 80,
   "metadata": {},
   "outputs": [],
   "source": [
    "tx_train = replace_nan_by_median(tx_train)\n",
    "tx_test = replace_nan_by_median(tx_test)"
   ]
  },
  {
   "cell_type": "code",
   "execution_count": 81,
   "metadata": {},
   "outputs": [],
   "source": [
    "mean_train, std_train, tx_train = standardize(tx_train)\n",
    "tx_test = standardize_predef(tx_test, mean_train, std_train)"
   ]
  },
  {
   "cell_type": "code",
   "execution_count": 82,
   "metadata": {
    "collapsed": true
   },
   "outputs": [],
   "source": [
    "#tx_train = min_max(tx_train)"
   ]
  },
  {
   "cell_type": "code",
   "execution_count": 83,
   "metadata": {
    "collapsed": true
   },
   "outputs": [],
   "source": [
    "tx_train, y_train = balance(tx_train.T, y_train, LOWER_BOUND, UPPER_BOUND)"
   ]
  },
  {
   "cell_type": "code",
   "execution_count": 84,
   "metadata": {},
   "outputs": [
    {
     "data": {
      "text/plain": [
       "(23, 171334)"
      ]
     },
     "execution_count": 84,
     "metadata": {},
     "output_type": "execute_result"
    }
   ],
   "source": [
    "tx_train\n",
    "tx_train.shape"
   ]
  },
  {
   "cell_type": "markdown",
   "metadata": {},
   "source": [
    "# Cross Validation for Ridge Regression"
   ]
  },
  {
   "cell_type": "code",
   "execution_count": 59,
   "metadata": {},
   "outputs": [
    {
     "data": {
      "application/vnd.jupyter.widget-view+json": {
       "model_id": "30aad837f49c4e2bbe13b563c44a8ed7"
      }
     },
     "metadata": {},
     "output_type": "display_data"
    },
    {
     "name": "stdout",
     "output_type": "stream",
     "text": [
      "Finished: (1, 0, 0.0001, 0.49562831961711318)\n",
      "Finished: (1, 0, 0.00021544346900318845, 0.49552325920737755)\n",
      "Finished: (1, 0, 0.00046415888336127773, 0.49564582968540244)\n",
      "Finished: (1, 0, 0.001, 0.49558746279110483)\n",
      "Finished: (1, 0, 0.0021544346900318821, 0.4957742368528571)\n",
      "\n",
      "Finished: (1, 0, 0.0046415888336127772, 0.49582676705772488)\n",
      "Finished: (1, 0, 0.01, 0.49590848070974147)\n",
      "Finished: (1, 0, 0.021544346900318822, 0.49562831961711318)\n",
      "Finished: (1, 0, 0.046415888336127774, 0.49582093036829511)\n",
      "Finished: (1, 0, 0.10000000000000001, 0.49547072900250982)\n",
      "Finished: (2, 0, 0.0001, 0.49655635323644426)\n",
      "Finished: (2, 0, 0.00021544346900318845, 0.49657969999416329)\n",
      "Finished: (2, 0, 0.00046415888336127773, 0.49652133309986574)\n",
      "Finished: (2, 0, 0.001, 0.49640459931127073)\n",
      "Finished: (2, 0, 0.0021544346900318821, 0.49647463958442761)\n",
      "Finished: (2, 0, 0.0046415888336127772, 0.49666725033560966)\n",
      "Finished: (2, 0, 0.01, 0.49669059709332863)\n",
      "Finished: (2, 0, 0.021544346900318822, 0.49684235101850227)\n",
      "Finished: (2, 0, 0.046415888336127774, 0.49634623241697307)\n",
      "Finished: (2, 0, 0.10000000000000001, 0.49634623241697307)\n",
      "Finished: (3, 0, 0.0001, 0.49854082764256119)\n",
      "Finished: (3, 0, 0.00021544346900318845, 0.49859335784742898)\n",
      "Finished: (3, 0, 0.00046415888336127773, 0.49861670460514801)\n",
      "Finished: (3, 0, 0.001, 0.49873343839374307)\n",
      "Finished: (3, 0, 0.0021544346900318821, 0.49906029300180943)\n",
      "Finished: (3, 0, 0.0046415888336127772, 0.49876262184089182)\n",
      "Finished: (3, 0, 0.01, 0.49893188583435483)\n",
      "Finished: (3, 0, 0.021544346900318822, 0.49847662405883381)\n",
      "Finished: (3, 0, 0.046415888336127774, 0.49762446740208965)\n",
      "Finished: (3, 0, 0.10000000000000001, 0.49701161501196528)\n",
      "Finished: (4, 0, 0.0001, 0.50019261075118193)\n",
      "Finished: (4, 0, 0.00021544346900318845, 0.50001751006828921)\n",
      "Finished: (4, 0, 0.00046415888336127773, 0.49999416331057028)\n",
      "Finished: (4, 0, 0.001, 0.49993579641627273)\n",
      "Finished: (4, 0, 0.0021544346900318821, 0.49987742952197511)\n",
      "Finished: (4, 0, 0.0046415888336127772, 0.49946886126189227)\n",
      "Finished: (4, 0, 0.01, 0.49903110955466062)\n",
      "Finished: (4, 0, 0.021544346900318822, 0.49949220801961136)\n",
      "Finished: (4, 0, 0.046415888336127774, 0.49946302457246256)\n",
      "Finished: (4, 0, 0.10000000000000001, 0.49949804470904108)\n",
      "Finished: (5, 0, 0.0001, 0.4994221677464542)\n",
      "Finished: (5, 0, 0.00021544346900318845, 0.49931710733671864)\n",
      "Finished: (5, 0, 0.00046415888336127773, 0.49938714760987574)\n",
      "Finished: (5, 0, 0.001, 0.49929376057899955)\n",
      "Finished: (5, 0, 0.0021544346900318821, 0.49903694624409028)\n",
      "Finished: (5, 0, 0.0046415888336127772, 0.49907780307009864)\n",
      "Finished: (5, 0, 0.01, 0.49900776279694165)\n",
      "Finished: (5, 0, 0.021544346900318822, 0.49903110955466057)\n",
      "Finished: (5, 0, 0.046415888336127774, 0.49968481877079329)\n",
      "Finished: (5, 0, 0.10000000000000001, 0.49910114982781761)\n",
      "Finished: (6, 0, 0.0001, 0.49936380085215665)\n",
      "Finished: (6, 0, 0.00021544346900318845, 0.49969649214965273)\n",
      "Finished: (6, 0, 0.00046415888336127773, 0.49932878071557807)\n",
      "Finished: (6, 0, 0.001, 0.49930543395785909)\n",
      "Finished: (6, 0, 0.0021544346900318821, 0.49959726842934682)\n",
      "Finished: (6, 0, 0.0046415888336127772, 0.49965563532364438)\n",
      "Finished: (6, 0, 0.01, 0.50008171365201659)\n",
      "Finished: (6, 0, 0.021544346900318822, 0.49922955699527238)\n",
      "Finished: (6, 0, 0.046415888336127774, 0.4990252728652308)\n",
      "Finished: (6, 0, 0.10000000000000001, 0.49786960835813926)\n",
      "Finished: (7, 0, 0.0001, 0.49967898208136347)\n",
      "Finished: (7, 0, 0.00021544346900318845, 0.49964396194478489)\n",
      "Finished: (7, 0, 0.00046415888336127773, 0.50011673378859511)\n",
      "Finished: (7, 0, 0.001, 0.50060701570069455)\n",
      "Finished: (7, 0, 0.0021544346900318821, 0.50056032218525659)\n",
      "Finished: (7, 0, 0.0046415888336127772, 0.50133076518998421)\n",
      "Finished: (7, 0, 0.01, 0.50124905153796762)\n",
      "Finished: (7, 0, 0.021544346900318822, 0.50128990836397602)\n",
      "Finished: (7, 0, 0.046415888336127774, 0.501552559388315)\n",
      "Finished: (7, 0, 0.10000000000000001, 0.50033269129749602)\n",
      "Finished: (8, 0, 0.0001, 0.50080546314130614)\n",
      "Finished: (8, 0, 0.00021544346900318845, 0.49993579641627262)\n",
      "Finished: (8, 0, 0.00046415888336127773, 0.50114982781766182)\n",
      "Finished: (8, 0, 0.001, 0.5014533356680092)\n",
      "Finished: (8, 0, 0.0021544346900318821, 0.50022763088776057)\n",
      "Finished: (8, 0, 0.0046415888336127772, 0.50013424385688432)\n",
      "Finished: (8, 0, 0.01, 0.50018093737232239)\n",
      "Finished: (8, 0, 0.021544346900318822, 0.49963812525535517)\n",
      "Finished: (8, 0, 0.046415888336127774, 0.50034436467635568)\n",
      "Finished: (8, 0, 0.10000000000000001, 0.49958559505048739)\n",
      "Finished: (9, 0, 0.0001, 0.5)\n",
      "Finished: (9, 0, 0.00021544346900318845, 0.50007587696258682)\n",
      "Finished: (9, 0, 0.00046415888336127773, 0.50114982781766193)\n",
      "Finished: (9, 0, 0.001, 0.50110313430222375)\n",
      "Finished: (9, 0, 0.0021544346900318821, 0.50095138037705012)\n",
      "Finished: (9, 0, 0.0046415888336127772, 0.50144166228914966)\n",
      "Finished: (9, 0, 0.01, 0.50079962645187648)\n",
      "Finished: (9, 0, 0.021544346900318822, 0.50043191501780193)\n",
      "Finished: (9, 0, 0.046415888336127774, 0.50144749897857943)\n",
      "Finished: (9, 0, 0.10000000000000001, 0.50091052355104193)\n",
      "Finished: (10, 0, 0.0001, 0.50019261075118193)\n",
      "Finished: (10, 0, 0.00021544346900318845, 0.50047860853324)\n",
      "Finished: (10, 0, 0.00046415888336127773, 0.50067121928442182)\n",
      "Finished: (10, 0, 0.001, 0.50123737815910818)\n",
      "Finished: (10, 0, 0.0021544346900318821, 0.50100391058191796)\n",
      "Finished: (10, 0, 0.0046415888336127772, 0.50044358839666148)\n",
      "Finished: (10, 0, 0.01, 0.50091052355104182)\n",
      "Finished: (10, 0, 0.021544346900318822, 0.50010506040973568)\n",
      "Finished: (10, 0, 0.046415888336127774, 0.49998832662114046)\n",
      "Finished: (10, 0, 0.10000000000000001, 0.49988910290083466)\n",
      "Finished: (11, 0, 0.0001, 0.49976069573338)\n",
      "Finished: (11, 0, 0.00021544346900318845, 0.49994163310570244)\n",
      "Finished: (11, 0, 0.00046415888336127773, 0.49937547423101619)\n",
      "Finished: (11, 0, 0.001, 0.4995914317399171)\n",
      "Finished: (11, 0, 0.0021544346900318821, 0.49952722815618983)\n",
      "Finished: (11, 0, 0.0046415888336127772, 0.50056032218525659)\n",
      "Finished: (11, 0, 0.01, 0.49991828634798335)\n",
      "Finished: (11, 0, 0.021544346900318822, 0.4999591431739917)\n",
      "Finished: (11, 0, 0.046415888336127774, 0.49903694624409034)\n",
      "Finished: (11, 0, 0.10000000000000001, 0.49985991945368591)\n",
      "Finished: (12, 0, 0.0001, 0.49920037354812347)\n",
      "Finished: (12, 0, 0.00021544346900318845, 0.49903110955466062)\n",
      "Finished: (12, 0, 0.00046415888336127773, 0.49876845853032165)\n",
      "Finished: (12, 0, 0.001, 0.49841242047510653)\n",
      "Finished: (12, 0, 0.0021544346900318821, 0.49835989027023875)\n",
      "Finished: (12, 0, 0.0046415888336127772, 0.50092219692990136)\n",
      "Finished: (12, 0, 0.01, 0.49978404249109909)\n",
      "Finished: (12, 0, 0.021544346900318822, 0.49965563532364438)\n",
      "Finished: (12, 0, 0.046415888336127774, 0.49950388139847079)\n",
      "Finished: (12, 0, 0.10000000000000001, 0.49928208720014011)\n",
      "\n",
      "[(1, 0, 0.0001, 0.49562831961711318), (1, 0, 0.00021544346900318845, 0.49552325920737755), (1, 0, 0.00046415888336127773, 0.49564582968540244), (1, 0, 0.001, 0.49558746279110483), (1, 0, 0.0021544346900318821, 0.4957742368528571), (1, 0, 0.0046415888336127772, 0.49582676705772488), (1, 0, 0.01, 0.49590848070974147), (1, 0, 0.021544346900318822, 0.49562831961711318), (1, 0, 0.046415888336127774, 0.49582093036829511), (1, 0, 0.10000000000000001, 0.49547072900250982), (2, 0, 0.0001, 0.49655635323644426), (2, 0, 0.00021544346900318845, 0.49657969999416329), (2, 0, 0.00046415888336127773, 0.49652133309986574), (2, 0, 0.001, 0.49640459931127073), (2, 0, 0.0021544346900318821, 0.49647463958442761), (2, 0, 0.0046415888336127772, 0.49666725033560966), (2, 0, 0.01, 0.49669059709332863), (2, 0, 0.021544346900318822, 0.49684235101850227), (2, 0, 0.046415888336127774, 0.49634623241697307), (2, 0, 0.10000000000000001, 0.49634623241697307), (3, 0, 0.0001, 0.49854082764256119), (3, 0, 0.00021544346900318845, 0.49859335784742898), (3, 0, 0.00046415888336127773, 0.49861670460514801), (3, 0, 0.001, 0.49873343839374307), (3, 0, 0.0021544346900318821, 0.49906029300180943), (3, 0, 0.0046415888336127772, 0.49876262184089182), (3, 0, 0.01, 0.49893188583435483), (3, 0, 0.021544346900318822, 0.49847662405883381), (3, 0, 0.046415888336127774, 0.49762446740208965), (3, 0, 0.10000000000000001, 0.49701161501196528), (4, 0, 0.0001, 0.50019261075118193), (4, 0, 0.00021544346900318845, 0.50001751006828921), (4, 0, 0.00046415888336127773, 0.49999416331057028), (4, 0, 0.001, 0.49993579641627273), (4, 0, 0.0021544346900318821, 0.49987742952197511), (4, 0, 0.0046415888336127772, 0.49946886126189227), (4, 0, 0.01, 0.49903110955466062), (4, 0, 0.021544346900318822, 0.49949220801961136), (4, 0, 0.046415888336127774, 0.49946302457246256), (4, 0, 0.10000000000000001, 0.49949804470904108), (5, 0, 0.0001, 0.4994221677464542), (5, 0, 0.00021544346900318845, 0.49931710733671864), (5, 0, 0.00046415888336127773, 0.49938714760987574), (5, 0, 0.001, 0.49929376057899955), (5, 0, 0.0021544346900318821, 0.49903694624409028), (5, 0, 0.0046415888336127772, 0.49907780307009864), (5, 0, 0.01, 0.49900776279694165), (5, 0, 0.021544346900318822, 0.49903110955466057), (5, 0, 0.046415888336127774, 0.49968481877079329), (5, 0, 0.10000000000000001, 0.49910114982781761), (6, 0, 0.0001, 0.49936380085215665), (6, 0, 0.00021544346900318845, 0.49969649214965273), (6, 0, 0.00046415888336127773, 0.49932878071557807), (6, 0, 0.001, 0.49930543395785909), (6, 0, 0.0021544346900318821, 0.49959726842934682), (6, 0, 0.0046415888336127772, 0.49965563532364438), (6, 0, 0.01, 0.50008171365201659), (6, 0, 0.021544346900318822, 0.49922955699527238), (6, 0, 0.046415888336127774, 0.4990252728652308), (6, 0, 0.10000000000000001, 0.49786960835813926), (7, 0, 0.0001, 0.49967898208136347), (7, 0, 0.00021544346900318845, 0.49964396194478489), (7, 0, 0.00046415888336127773, 0.50011673378859511), (7, 0, 0.001, 0.50060701570069455), (7, 0, 0.0021544346900318821, 0.50056032218525659), (7, 0, 0.0046415888336127772, 0.50133076518998421), (7, 0, 0.01, 0.50124905153796762), (7, 0, 0.021544346900318822, 0.50128990836397602), (7, 0, 0.046415888336127774, 0.501552559388315), (7, 0, 0.10000000000000001, 0.50033269129749602), (8, 0, 0.0001, 0.50080546314130614), (8, 0, 0.00021544346900318845, 0.49993579641627262), (8, 0, 0.00046415888336127773, 0.50114982781766182), (8, 0, 0.001, 0.5014533356680092), (8, 0, 0.0021544346900318821, 0.50022763088776057), (8, 0, 0.0046415888336127772, 0.50013424385688432), (8, 0, 0.01, 0.50018093737232239), (8, 0, 0.021544346900318822, 0.49963812525535517), (8, 0, 0.046415888336127774, 0.50034436467635568), (8, 0, 0.10000000000000001, 0.49958559505048739), (9, 0, 0.0001, 0.5), (9, 0, 0.00021544346900318845, 0.50007587696258682), (9, 0, 0.00046415888336127773, 0.50114982781766193), (9, 0, 0.001, 0.50110313430222375), (9, 0, 0.0021544346900318821, 0.50095138037705012), (9, 0, 0.0046415888336127772, 0.50144166228914966), (9, 0, 0.01, 0.50079962645187648), (9, 0, 0.021544346900318822, 0.50043191501780193), (9, 0, 0.046415888336127774, 0.50144749897857943), (9, 0, 0.10000000000000001, 0.50091052355104193), (10, 0, 0.0001, 0.50019261075118193), (10, 0, 0.00021544346900318845, 0.50047860853324), (10, 0, 0.00046415888336127773, 0.50067121928442182), (10, 0, 0.001, 0.50123737815910818), (10, 0, 0.0021544346900318821, 0.50100391058191796), (10, 0, 0.0046415888336127772, 0.50044358839666148), (10, 0, 0.01, 0.50091052355104182), (10, 0, 0.021544346900318822, 0.50010506040973568), (10, 0, 0.046415888336127774, 0.49998832662114046), (10, 0, 0.10000000000000001, 0.49988910290083466), (11, 0, 0.0001, 0.49976069573338), (11, 0, 0.00021544346900318845, 0.49994163310570244), (11, 0, 0.00046415888336127773, 0.49937547423101619), (11, 0, 0.001, 0.4995914317399171), (11, 0, 0.0021544346900318821, 0.49952722815618983), (11, 0, 0.0046415888336127772, 0.50056032218525659), (11, 0, 0.01, 0.49991828634798335), (11, 0, 0.021544346900318822, 0.4999591431739917), (11, 0, 0.046415888336127774, 0.49903694624409034), (11, 0, 0.10000000000000001, 0.49985991945368591), (12, 0, 0.0001, 0.49920037354812347), (12, 0, 0.00021544346900318845, 0.49903110955466062), (12, 0, 0.00046415888336127773, 0.49876845853032165), (12, 0, 0.001, 0.49841242047510653), (12, 0, 0.0021544346900318821, 0.49835989027023875), (12, 0, 0.0046415888336127772, 0.50092219692990136), (12, 0, 0.01, 0.49978404249109909), (12, 0, 0.021544346900318822, 0.49965563532364438), (12, 0, 0.046415888336127774, 0.49950388139847079), (12, 0, 0.10000000000000001, 0.49928208720014011)]\n",
      "Best accuracy:  0.501552559388\n",
      "Best degree:  7\n",
      "Best gamma:  0\n",
      "Best lambda:  0.0464158883361\n"
     ]
    }
   ],
   "source": [
    "model = \"ridge_regression\"\n",
    "seed = 3\n",
    "k_fold = 10\n",
    "k_indices = build_k_indices(y_train, k_fold, seed)\n",
    "degrees = np.arange(1, 13, 1)\n",
    "lambdas = np.logspace(-4, -1, 10)\n",
    "gammas = [0]\n",
    "max_iters = 0\n",
    "\n",
    "def cross_validation_demo(model, k_fold, k_indices, degrees, lambdas, gammas, max_iters, tx_train, y_train):\n",
    "    results = []\n",
    "    for degree in tqdm_notebook(degrees):\n",
    "        tx_poly = build_poly_tx(tx_train, degree)\n",
    "        initial_w = init_w(tx_poly)\n",
    "        for gamma in gammas:\n",
    "            for lambda_ in lambdas:\n",
    "                accs = []\n",
    "                ws = []\n",
    "                for k in range(k_fold):\n",
    "                    w_tr, acc = cross_validation(y_train, tx_poly.T, initial_w,\n",
    "                                                 max_iters,  k_indices, k, gamma, lambda_, LOWER_BOUND, UPPER_BOUND, model)\n",
    "                    ws.append(w_tr)\n",
    "                    accs.append(acc)\n",
    "                w_final = np.mean(ws, axis=0)\n",
    "                acc_mean = np.mean(accs)\n",
    "                results.append((degree, gamma, lambda_, acc_mean))\n",
    "\n",
    "                print(\"Finished: \" + str((degree, gamma, lambda_, acc_mean)))\n",
    "    \n",
    "    print(results)\n",
    "    \n",
    "    best_degree, best_gamma, best_lambda, best_acc_mean = max(results, key=lambda x: x[3])\n",
    "    print(\"Best accuracy: \",best_acc_mean)\n",
    "    print(\"Best degree: \", best_degree)\n",
    "    print(\"Best gamma: \", best_gamma)\n",
    "    print(\"Best lambda: \", best_lambda)\n",
    "    \n",
    "    return results\n",
    "\n",
    "results = cross_validation_demo(model, k_fold, k_indices, degrees, lambdas, gammas, max_iters, tx_train, y_train)"
   ]
  },
  {
   "cell_type": "markdown",
   "metadata": {},
   "source": [
    "# Performance"
   ]
  },
  {
   "cell_type": "code",
   "execution_count": 60,
   "metadata": {},
   "outputs": [
    {
     "data": {
      "image/png": "[encoded data removed]",
      "text/plain": [
       "<matplotlib.figure.Figure at 0x11b5330f0>"
      ]
     },
     "metadata": {},
     "output_type": "display_data"
    }
   ],
   "source": [
    "import pandas as pd\n",
    "\n",
    "# show the best results for different parameters of the ridge regression\n",
    "def show_ridge_results(results, l_degrees):\n",
    "\n",
    "    df = pd.DataFrame.from_records(results, columns=['degree', 'gamma', 'lambda', 'acc'])\n",
    "    df.plot.hexbin(x='lambda', y='degree', C='acc', gridsize=l_degrees, figsize=(10,6), sharex=False)\n",
    "    plt.show()\n",
    "    \n",
    "    return df\n",
    "    \n",
    "df = show_ridge_results(results, len(degrees))"
   ]
  },
  {
   "cell_type": "code",
   "execution_count": 85,
   "metadata": {},
   "outputs": [
    {
     "data": {
      "text/plain": [
       "(1, 0, 0.0001, 0.49562831961711318)"
      ]
     },
     "execution_count": 85,
     "metadata": {},
     "output_type": "execute_result"
    }
   ],
   "source": [
    "results."
   ]
  },
  {
   "cell_type": "markdown",
   "metadata": {},
   "source": [
    "# Selecting best parameters"
   ]
  },
  {
   "cell_type": "code",
   "execution_count": 104,
   "metadata": {},
   "outputs": [
    {
     "name": "stdout",
     "output_type": "stream",
     "text": [
      "[array([[-0.00352026],\n",
      "       [ 0.00757566],\n",
      "       [ 0.00840324],\n",
      "       ..., \n",
      "       [-0.01714945],\n",
      "       [-0.01379862],\n",
      "       [-0.03001575]]), array([[-0.02223583],\n",
      "       [ 0.01341186],\n",
      "       [ 0.03224925],\n",
      "       ..., \n",
      "       [-0.02417495],\n",
      "       [-0.005271  ],\n",
      "       [-0.00370654]]), array([[-0.01421966],\n",
      "       [ 0.00199321],\n",
      "       [ 0.02703966],\n",
      "       ..., \n",
      "       [-0.01661811],\n",
      "       [-0.01138632],\n",
      "       [ 0.00774187]])]\n"
     ]
    }
   ],
   "source": [
    "def compute_raw_predictions(results, degrees, tx, y):\n",
    "    y_raw_preds = []\n",
    "    ws = []\n",
    "    for d in degrees:\n",
    "        r_d = [r for r in results if r[0] == d]\n",
    "        degree, gamma, lambda_, acc_mean = max(r_d, key=lambda x: x[3])\n",
    "        tx_poly = build_poly_tx(tx, d)\n",
    "        w, l = ridge_regression(y, tx_poly, lambda_)\n",
    "        ws.append(w)\n",
    "        y_raw_pred = np.dot(tx_poly.T, np.array(w))\n",
    "        y_raw_preds.append(y_raw_pred)\n",
    "        \n",
    "    return y_raw_preds, ws\n",
    "\n",
    "y_raw_preds, ws = compute_raw_predictions(results, [9, 10, 11], tx_train, y_train)\n",
    "y_raw_preds"
   ]
  },
  {
   "cell_type": "code",
   "execution_count": 109,
   "metadata": {},
   "outputs": [
    {
     "data": {
      "text/plain": [
       "array([[-0.01332525],\n",
       "       [ 0.00766024],\n",
       "       [ 0.02256405],\n",
       "       ..., \n",
       "       [-0.01931417],\n",
       "       [-0.01015198],\n",
       "       [-0.00866014]])"
      ]
     },
     "execution_count": 109,
     "metadata": {},
     "output_type": "execute_result"
    }
   ],
   "source": [
    "y_raw_preds_mean = np.mean(y_raw_preds, axis=0)\n",
    "y_raw_preds_mean"
   ]
  },
  {
   "cell_type": "code",
   "execution_count": 110,
   "metadata": {},
   "outputs": [
    {
     "name": "stdout",
     "output_type": "stream",
     "text": [
      "[[-1.]\n",
      " [ 1.]\n",
      " [ 1.]\n",
      " ..., \n",
      " [-1.]\n",
      " [-1.]\n",
      " [-1.]]\n"
     ]
    }
   ],
   "source": [
    "threshold = (UPPER_BOUND + LOWER_BOUND)/2\n",
    "y_raw_preds_mean[np.where(y_raw_preds_mean <= threshold)] = -1\n",
    "y_raw_preds_mean[np.where(y_raw_preds_mean > threshold)] = 1\n",
    "print(y_raw_preds_mean)"
   ]
  },
  {
   "cell_type": "code",
   "execution_count": 112,
   "metadata": {},
   "outputs": [
    {
     "data": {
      "text/plain": [
       "0.51254858930509994"
      ]
     },
     "execution_count": 112,
     "metadata": {},
     "output_type": "execute_result"
    }
   ],
   "source": [
    "np.mean(y_train == y_raw_preds_mean)"
   ]
  },
  {
   "cell_type": "code",
   "execution_count": 132,
   "metadata": {},
   "outputs": [
    {
     "data": {
      "text/plain": [
       "array([[ 1.],\n",
       "       [ 1.],\n",
       "       [ 1.],\n",
       "       ..., \n",
       "       [-1.],\n",
       "       [-1.],\n",
       "       [-1.]])"
      ]
     },
     "execution_count": 132,
     "metadata": {},
     "output_type": "execute_result"
    }
   ],
   "source": [
    "y_train"
   ]
  },
  {
   "cell_type": "code",
   "execution_count": 137,
   "metadata": {},
   "outputs": [
    {
     "data": {
      "text/plain": [
       "array([[-0.00352026,  0.00757566,  0.00840324, ..., -0.01714945,\n",
       "        -0.01379862, -0.03001575],\n",
       "       [-0.02223583,  0.01341186,  0.03224925, ..., -0.02417495,\n",
       "        -0.005271  , -0.00370654],\n",
       "       [-0.01421966,  0.00199321,  0.02703966, ..., -0.01661811,\n",
       "        -0.01138632,  0.00774187]])"
      ]
     },
     "execution_count": 137,
     "metadata": {},
     "output_type": "execute_result"
    }
   ],
   "source": [
    "tx = np.squeeze(y_preds, axis=2)\n",
    "tx"
   ]
  },
  {
   "cell_type": "code",
   "execution_count": 138,
   "metadata": {},
   "outputs": [
    {
     "data": {
      "text/plain": [
       "0.51254858930509994"
      ]
     },
     "execution_count": 138,
     "metadata": {},
     "output_type": "execute_result"
    }
   ],
   "source": [
    "w, l = least_squares(y_train, tx)\n",
    "\n",
    "y_t = np.dot(tx.T, w)\n",
    "\n",
    "np.mean(y_train == y_raw_preds_mean)"
   ]
  },
  {
   "cell_type": "code",
   "execution_count": 141,
   "metadata": {},
   "outputs": [
    {
     "data": {
      "application/vnd.jupyter.widget-view+json": {
       "model_id": "b5e3b975ecdd4bcf861fa40ac529762e"
      }
     },
     "metadata": {},
     "output_type": "display_data"
    },
    {
     "name": "stderr",
     "output_type": "stream",
     "text": [
      "/Users/Joel/Drive/EPFL/MA1/github/CS-433/project1/implementations.py:118: RuntimeWarning: overflow encountered in exp\n",
      "  return 1/(1+np.exp(-t))\n",
      "/Users/Joel/Drive/EPFL/MA1/github/CS-433/project1/implementations.py:125: RuntimeWarning: overflow encountered in exp\n",
      "  exp_ = np.exp(tx.dot(w))\n"
     ]
    },
    {
     "name": "stdout",
     "output_type": "stream",
     "text": [
      "Finished: (1, 0.7, 0, 0.50035603389909655)\n",
      "\n",
      "[(1, 0.7, 0, 0.50035603389909655)]\n",
      "Best accuracy:  0.500356033899\n",
      "Best degree:  1\n",
      "Best gamma:  0.7\n",
      "Best lambda:  0\n"
     ]
    }
   ],
   "source": [
    "model = \"logistic_regression\"\n",
    "seed = 3\n",
    "k_fold = 4\n",
    "k_indices = build_k_indices(y_train, k_fold, seed)\n",
    "degrees = [1]\n",
    "lambdas = [0]\n",
    "gammas = [0.7]\n",
    "max_iters = 1000\n",
    "\n",
    "def cross_validation_demo(model, k_fold, k_indices, degrees, lambdas, gammas, max_iters, tx_train, y_train):\n",
    "    results = []\n",
    "    for degree in tqdm_notebook(degrees):\n",
    "        tx_poly = build_poly_tx(tx_train, degree)\n",
    "        initial_w = init_w(tx_poly)\n",
    "        for gamma in gammas:\n",
    "            for lambda_ in lambdas:\n",
    "                accs = []\n",
    "                ws = []\n",
    "                for k in range(k_fold):\n",
    "                    w_tr, acc = cross_validation(y_train, tx_poly.T, initial_w,\n",
    "                                                 max_iters,  k_indices, k, gamma, lambda_, LOWER_BOUND, UPPER_BOUND, model)\n",
    "                    ws.append(w_tr)\n",
    "                    accs.append(acc)\n",
    "                w_final = np.mean(ws, axis=0)\n",
    "                acc_mean = np.mean(accs)\n",
    "                results.append((degree, gamma, lambda_, acc_mean))\n",
    "\n",
    "                print(\"Finished: \" + str((degree, gamma, lambda_, acc_mean)))\n",
    "    \n",
    "    print(results)\n",
    "    \n",
    "    best_degree, best_gamma, best_lambda, best_acc_mean = max(results, key=lambda x: x[3])\n",
    "    print(\"Best accuracy: \",best_acc_mean)\n",
    "    print(\"Best degree: \", best_degree)\n",
    "    print(\"Best gamma: \", best_gamma)\n",
    "    print(\"Best lambda: \", best_lambda)\n",
    "    \n",
    "    return results\n",
    "\n",
    "results = cross_validation_demo(model, k_fold, k_indices, degrees, lambdas, gammas, max_iters, tx, y_train)"
   ]
  },
  {
   "cell_type": "markdown",
   "metadata": {},
   "source": [
    "# Predict labels"
   ]
  },
  {
   "cell_type": "code",
   "execution_count": 35,
   "metadata": {
    "collapsed": true
   },
   "outputs": [],
   "source": [
    "from proj1_helpers import predict_labels_kaggle"
   ]
  },
  {
   "cell_type": "code",
   "execution_count": 46,
   "metadata": {
    "collapsed": true
   },
   "outputs": [],
   "source": [
    "y_pred = predict_labels_kaggle(w_final, tx_test.T, LOWER_BOUND, UPPER_BOUND)"
   ]
  },
  {
   "cell_type": "markdown",
   "metadata": {},
   "source": [
    "# Submission"
   ]
  },
  {
   "cell_type": "code",
   "execution_count": 47,
   "metadata": {
    "collapsed": true
   },
   "outputs": [],
   "source": [
    "from proj1_helpers import create_csv_submission"
   ]
  },
  {
   "cell_type": "code",
   "execution_count": 48,
   "metadata": {
    "collapsed": true
   },
   "outputs": [],
   "source": [
    "create_csv_submission(ids_test, y_pred, \"test11.csv\")"
   ]
  },
  {
   "cell_type": "markdown",
   "metadata": {},
   "source": [
    "Test n : algorithm / features / y / w\n",
    "- - - - - - - - - - - - - - - - - - - \n",
    "Test 1 : least_squares / all features standardized / y = -1,1 / random init_w\n",
    "\n",
    "Test 2 : least_squares / corr > 0.1 features standardized / y = -1,1 / random init_w\n",
    "\n",
    "Test 3 : least_squares_GD(10000,0.5) / all features standardized / y = -1,1 / random init_w\n",
    "\n",
    "Test 4 : least_squares_GD(10000,0.5) / all features standardized / y = -1,1 / random init_w / poly, degree=1\n",
    "\n",
    "Test 5 : least_squares / all features standardized / y = -1,1 / random init_w / median + categorical\n",
    "\n",
    "Test 6 : logistic_regressoin  /all features standardized / y = 0,1 / random init_w / median + categorical + balanced\n",
    "\n",
    "Test 7 : least_squares / all features standardized / y = 0,1 / random init_w\n",
    "\n",
    "Test 8 : Test 1\n",
    "\n",
    "Test 9 : Test 1\n",
    "\n",
    "Test 10 : Test 1 / standardized test_set with mean and std from train_set\n",
    "\n",
    "Test 11 : Test 1 / standardized test_set with mean and std from train_set / balance"
   ]
  },
  {
   "cell_type": "markdown",
   "metadata": {},
   "source": [
    "## Further work"
   ]
  },
  {
   "cell_type": "markdown",
   "metadata": {},
   "source": [
    "- balance output (batch numpy)\n",
    "- median and category\n",
    "- features engineering : features d'intéraction\n",
    "- logistic regression "
   ]
  }
 ],
 "metadata": {
  "kernelspec": {
   "display_name": "Python 3",
   "language": "python",
   "name": "python3"
  },
  "language_info": {
   "codemirror_mode": {
    "name": "ipython",
    "version": 3
   },
   "file_extension": ".py",
   "mimetype": "text/x-python",
   "name": "python",
   "nbconvert_exporter": "python",
   "pygments_lexer": "ipython3",
   "version": "3.5.3"
  }
 },
 "nbformat": 4,
 "nbformat_minor": 2
}
