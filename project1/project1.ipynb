{
 "cells": [
  {
   "cell_type": "code",
   "execution_count": 1,
   "metadata": {},
   "outputs": [],
   "source": [
    "from implementations import *\n",
    "from proj1_helpers import *\n",
    "\n",
    "import numpy as np\n",
    "import random\n",
    "from tqdm import tqdm_notebook\n",
    "\n",
    "%load_ext autoreload"
   ]
  },
  {
   "cell_type": "code",
   "execution_count": 2,
   "metadata": {
    "collapsed": true
   },
   "outputs": [],
   "source": [
    "%autoreload 2"
   ]
  },
  {
   "cell_type": "code",
   "execution_count": 3,
   "metadata": {
    "collapsed": true
   },
   "outputs": [],
   "source": [
    "LOWER_BOUND = -1\n",
    "UPPER_BOUND = 1"
   ]
  },
  {
   "cell_type": "markdown",
   "metadata": {},
   "source": [
    "# Import data"
   ]
  },
  {
   "cell_type": "code",
   "execution_count": 4,
   "metadata": {
    "collapsed": true
   },
   "outputs": [],
   "source": [
    "DATA_FOLDER = \"competition-data/\"\n",
    "DATA_TEST = \"test.csv\"\n",
    "DATA_TRAIN = \"train.csv\"\n",
    "\n",
    "y_train, x_train, ids_train = load_csv_data(DATA_FOLDER + DATA_TRAIN, LOWER_BOUND, UPPER_BOUND)\n",
    "y_test, x_test, ids_test = load_csv_data(DATA_FOLDER + DATA_TEST, LOWER_BOUND, UPPER_BOUND)"
   ]
  },
  {
   "cell_type": "code",
   "execution_count": 5,
   "metadata": {
    "collapsed": true
   },
   "outputs": [],
   "source": [
    "tx_train = x_train.T\n",
    "tx_test = x_test.T"
   ]
  },
  {
   "cell_type": "code",
   "execution_count": 6,
   "metadata": {},
   "outputs": [
    {
     "data": {
      "text/plain": [
       "array([[ 138.47 ,  160.937,      nan, ...,  105.457,   94.951,      nan],\n",
       "       [  51.655,   68.768,  162.172, ...,   60.526,   19.362,   72.756],\n",
       "       [  97.827,  103.235,  125.953, ...,   75.839,   68.812,   70.831],\n",
       "       ..., \n",
       "       [   1.24 ,      nan,      nan, ...,      nan,      nan,      nan],\n",
       "       [  -2.475,      nan,      nan, ...,      nan,      nan,      nan],\n",
       "       [ 113.497,   46.226,   44.251, ...,   41.992,    0.   ,    0.   ]])"
      ]
     },
     "execution_count": 6,
     "metadata": {},
     "output_type": "execute_result"
    }
   ],
   "source": [
    "tx_train"
   ]
  },
  {
   "cell_type": "markdown",
   "metadata": {},
   "source": [
    "# Cleaning data"
   ]
  },
  {
   "cell_type": "code",
   "execution_count": 7,
   "metadata": {},
   "outputs": [
    {
     "data": {
      "text/plain": [
       "(23, 568238)"
      ]
     },
     "execution_count": 7,
     "metadata": {},
     "output_type": "execute_result"
    }
   ],
   "source": [
    "tx_train, idx_to_del = delete_features(tx_train, 0.7)\n",
    "tx_test = delete_features_from_idx(tx_test, idx_to_del)\n",
    "tx_train.shape\n",
    "tx_test.shape"
   ]
  },
  {
   "cell_type": "code",
   "execution_count": 8,
   "metadata": {},
   "outputs": [
    {
     "name": "stdout",
     "output_type": "stream",
     "text": [
      "[4, 5, 6, 12, 26, 27, 28]\n"
     ]
    }
   ],
   "source": [
    "print(idx_to_del)"
   ]
  },
  {
   "cell_type": "code",
   "execution_count": 9,
   "metadata": {
    "collapsed": true
   },
   "outputs": [],
   "source": [
    "tx_train = replace_nan_by_median(tx_train)\n",
    "tx_test = replace_nan_by_median(tx_test)"
   ]
  },
  {
   "cell_type": "code",
   "execution_count": 10,
   "metadata": {
    "collapsed": true
   },
   "outputs": [],
   "source": [
    "mean_train, std_train, tx_train = standardize(tx_train)\n",
    "tx_test = standardize_predef(tx_test, mean_train, std_train)"
   ]
  },
  {
   "cell_type": "code",
   "execution_count": 82,
   "metadata": {
    "collapsed": true
   },
   "outputs": [],
   "source": [
    "#tx_train = min_max(tx_train)"
   ]
  },
  {
   "cell_type": "code",
   "execution_count": 83,
   "metadata": {
    "collapsed": true
   },
   "outputs": [],
   "source": [
    "tx_train, y_train = balance(tx_train.T, y_train, LOWER_BOUND, UPPER_BOUND)"
   ]
  },
  {
   "cell_type": "code",
   "execution_count": 11,
   "metadata": {},
   "outputs": [
    {
     "data": {
      "text/plain": [
       "(23, 250000)"
      ]
     },
     "execution_count": 11,
     "metadata": {},
     "output_type": "execute_result"
    }
   ],
   "source": [
    "tx_train\n",
    "tx_train.shape"
   ]
  },
  {
   "cell_type": "markdown",
   "metadata": {},
   "source": [
    "# Cross Validation for Ridge Regression"
   ]
  },
  {
   "cell_type": "code",
   "execution_count": 12,
   "metadata": {},
   "outputs": [
    {
     "data": {
      "application/vnd.jupyter.widget-view+json": {
       "model_id": "0d6d85a02aac403fbc439899d51857c7"
      }
     },
     "metadata": {},
     "output_type": "display_data"
    },
    {
     "name": "stdout",
     "output_type": "stream",
     "text": [
      "Finished: (1, 0, 0.0001, 0.7338039999999999)\n",
      "Finished: (1, 0, 0.00021544346900318845, 0.73377600000000009)\n",
      "Finished: (1, 0, 0.00046415888336127773, 0.73373199999999994)\n",
      "Finished: (1, 0, 0.001, 0.73372800000000005)\n",
      "Finished: (1, 0, 0.0021544346900318821, 0.73361999999999994)\n",
      "Finished: (1, 0, 0.0046415888336127772, 0.73359200000000002)\n",
      "Finished: (1, 0, 0.01, 0.73314799999999991)\n",
      "Finished: (1, 0, 0.021544346900318822, 0.73220400000000008)\n",
      "Finished: (1, 0, 0.046415888336127774, 0.72988799999999998)\n",
      "Finished: (1, 0, 0.10000000000000001, 0.72628800000000004)\n",
      "Finished: (2, 0, 0.0001, 0.7656639999999999)\n",
      "Finished: (2, 0, 0.00021544346900318845, 0.76570799999999983)\n",
      "Finished: (2, 0, 0.00046415888336127773, 0.76570000000000005)\n",
      "Finished: (2, 0, 0.001, 0.76567599999999991)\n",
      "Finished: (2, 0, 0.0021544346900318821, 0.76539200000000007)\n",
      "Finished: (2, 0, 0.0046415888336127772, 0.76514800000000005)\n",
      "Finished: (2, 0, 0.01, 0.76461999999999997)\n",
      "Finished: (2, 0, 0.021544346900318822, 0.76370800000000005)\n",
      "Finished: (2, 0, 0.046415888336127774, 0.76160800000000006)\n",
      "Finished: (2, 0, 0.10000000000000001, 0.7586440000000001)\n",
      "Finished: (3, 0, 0.0001, 0.77853600000000001)\n",
      "Finished: (3, 0, 0.00021544346900318845, 0.77857199999999982)\n",
      "Finished: (3, 0, 0.00046415888336127773, 0.77854000000000001)\n",
      "Finished: (3, 0, 0.001, 0.77849600000000008)\n",
      "Finished: (3, 0, 0.0021544346900318821, 0.77838000000000007)\n",
      "Finished: (3, 0, 0.0046415888336127772, 0.77820800000000001)\n",
      "Finished: (3, 0, 0.01, 0.77736799999999995)\n",
      "Finished: (3, 0, 0.021544346900318822, 0.77606800000000009)\n",
      "Finished: (3, 0, 0.046415888336127774, 0.77448800000000007)\n",
      "Finished: (3, 0, 0.10000000000000001, 0.77229999999999999)\n",
      "Finished: (4, 0, 0.0001, 0.78682800000000008)\n",
      "Finished: (4, 0, 0.00021544346900318845, 0.78678400000000004)\n",
      "Finished: (4, 0, 0.00046415888336127773, 0.78671199999999997)\n",
      "Finished: (4, 0, 0.001, 0.78671999999999997)\n",
      "Finished: (4, 0, 0.0021544346900318821, 0.78642400000000001)\n",
      "Finished: (4, 0, 0.0046415888336127772, 0.78632399999999991)\n",
      "Finished: (4, 0, 0.01, 0.78581999999999996)\n",
      "Finished: (4, 0, 0.021544346900318822, 0.78500400000000004)\n",
      "Finished: (4, 0, 0.046415888336127774, 0.78359999999999996)\n",
      "Finished: (4, 0, 0.10000000000000001, 0.78073599999999987)\n",
      "Finished: (5, 0, 0.0001, 0.79035199999999994)\n",
      "Finished: (5, 0, 0.00021544346900318845, 0.79035999999999995)\n",
      "Finished: (5, 0, 0.00046415888336127773, 0.79035200000000005)\n",
      "Finished: (5, 0, 0.001, 0.79015200000000019)\n",
      "Finished: (5, 0, 0.0021544346900318821, 0.79005199999999998)\n",
      "Finished: (5, 0, 0.0046415888336127772, 0.78971999999999998)\n",
      "Finished: (5, 0, 0.01, 0.78938799999999998)\n",
      "Finished: (5, 0, 0.021544346900318822, 0.78843200000000002)\n",
      "Finished: (5, 0, 0.046415888336127774, 0.78710799999999992)\n",
      "Finished: (5, 0, 0.10000000000000001, 0.78299600000000003)\n",
      "Finished: (6, 0, 0.0001, 0.79237200000000008)\n",
      "Finished: (6, 0, 0.00021544346900318845, 0.79228799999999988)\n",
      "Finished: (6, 0, 0.00046415888336127773, 0.792292)\n",
      "Finished: (6, 0, 0.001, 0.79224399999999995)\n",
      "Finished: (6, 0, 0.0021544346900318821, 0.79211600000000004)\n",
      "Finished: (6, 0, 0.0046415888336127772, 0.791744)\n",
      "Finished: (6, 0, 0.01, 0.79148399999999997)\n",
      "Finished: (6, 0, 0.021544346900318822, 0.79037199999999996)\n",
      "Finished: (6, 0, 0.046415888336127774, 0.78767200000000004)\n",
      "Finished: (6, 0, 0.10000000000000001, 0.78367199999999992)\n",
      "Finished: (7, 0, 0.0001, 0.79874400000000001)\n",
      "Finished: (7, 0, 0.00021544346900318845, 0.79870399999999997)\n",
      "Finished: (7, 0, 0.00046415888336127773, 0.79867999999999995)\n",
      "Finished: (7, 0, 0.001, 0.79856400000000005)\n",
      "Finished: (7, 0, 0.0021544346900318821, 0.79844799999999994)\n",
      "Finished: (7, 0, 0.0046415888336127772, 0.79785600000000012)\n",
      "Finished: (7, 0, 0.01, 0.79682399999999998)\n",
      "Finished: (7, 0, 0.021544346900318822, 0.79540799999999989)\n",
      "Finished: (7, 0, 0.046415888336127774, 0.79200800000000005)\n",
      "Finished: (7, 0, 0.10000000000000001, 0.78665600000000002)\n",
      "Finished: (8, 0, 0.0001, 0.80580399999999996)\n",
      "Finished: (8, 0, 0.00021544346900318845, 0.78391600000000006)\n",
      "Finished: (8, 0, 0.00046415888336127773, 0.80592799999999998)\n",
      "Finished: (8, 0, 0.001, 0.80611200000000005)\n",
      "Finished: (8, 0, 0.0021544346900318821, 0.80585200000000001)\n",
      "Finished: (8, 0, 0.0046415888336127772, 0.80523600000000006)\n",
      "Finished: (8, 0, 0.01, 0.80350800000000011)\n",
      "Finished: (8, 0, 0.021544346900318822, 0.80201999999999996)\n",
      "Finished: (8, 0, 0.046415888336127774, 0.79735599999999995)\n",
      "Finished: (8, 0, 0.10000000000000001, 0.79014399999999996)\n",
      "Finished: (9, 0, 0.0001, 0.81082799999999988)\n",
      "Finished: (9, 0, 0.00021544346900318845, 0.81077600000000005)\n",
      "Finished: (9, 0, 0.00046415888336127773, 0.81069200000000008)\n",
      "Finished: (9, 0, 0.001, 0.81064000000000003)\n",
      "Finished: (9, 0, 0.0021544346900318821, 0.81010000000000004)\n",
      "Finished: (9, 0, 0.0046415888336127772, 0.80969200000000008)\n",
      "Finished: (9, 0, 0.01, 0.8086040000000001)\n",
      "Finished: (9, 0, 0.021544346900318822, 0.80594799999999989)\n",
      "Finished: (9, 0, 0.046415888336127774, 0.80041999999999991)\n",
      "Finished: (9, 0, 0.10000000000000001, 0.79125199999999996)\n",
      "Finished: (10, 0, 0.0001, 0.81158400000000008)\n",
      "Finished: (10, 0, 0.00021544346900318845, 0.81155200000000005)\n",
      "Finished: (10, 0, 0.00046415888336127773, 0.81136399999999997)\n",
      "Finished: (10, 0, 0.001, 0.81148400000000009)\n",
      "Finished: (10, 0, 0.0021544346900318821, 0.81108800000000003)\n",
      "Finished: (10, 0, 0.0046415888336127772, 0.80960800000000011)\n",
      "Finished: (10, 0, 0.01, 0.81003199999999997)\n",
      "Finished: (10, 0, 0.021544346900318822, 0.80767600000000006)\n",
      "Finished: (10, 0, 0.046415888336127774, 0.80079600000000006)\n",
      "Finished: (10, 0, 0.10000000000000001, 0.79322400000000004)\n",
      "Finished: (11, 0, 0.0001, 0.81307200000000002)\n",
      "Finished: (11, 0, 0.00021544346900318845, 0.81306800000000001)\n",
      "Finished: (11, 0, 0.00046415888336127773, 0.81297599999999992)\n",
      "Finished: (11, 0, 0.001, 0.81299200000000005)\n",
      "Finished: (11, 0, 0.0021544346900318821, 0.812724)\n",
      "Finished: (11, 0, 0.0046415888336127772, 0.80998400000000004)\n",
      "Finished: (11, 0, 0.01, 0.81114799999999998)\n",
      "Finished: (11, 0, 0.021544346900318822, 0.80840400000000001)\n",
      "Finished: (11, 0, 0.046415888336127774, 0.8034039999999999)\n",
      "Finished: (11, 0, 0.10000000000000001, 0.79440000000000011)\n",
      "Finished: (12, 0, 0.0001, 0.786524)\n",
      "Finished: (12, 0, 0.00021544346900318845, 0.80345200000000006)\n",
      "Finished: (12, 0, 0.00046415888336127773, 0.80970799999999998)\n",
      "Finished: (12, 0, 0.001, 0.79500800000000005)\n",
      "Finished: (12, 0, 0.0021544346900318821, 0.78279199999999993)\n",
      "Finished: (12, 0, 0.0046415888336127772, 0.79458000000000006)\n",
      "Finished: (12, 0, 0.01, 0.81098000000000003)\n",
      "Finished: (12, 0, 0.021544346900318822, 0.80934400000000006)\n",
      "Finished: (12, 0, 0.046415888336127774, 0.80342800000000003)\n",
      "Finished: (12, 0, 0.10000000000000001, 0.78961599999999998)\n",
      "\n",
      "[(1, 0, 0.0001, 0.7338039999999999), (1, 0, 0.00021544346900318845, 0.73377600000000009), (1, 0, 0.00046415888336127773, 0.73373199999999994), (1, 0, 0.001, 0.73372800000000005), (1, 0, 0.0021544346900318821, 0.73361999999999994), (1, 0, 0.0046415888336127772, 0.73359200000000002), (1, 0, 0.01, 0.73314799999999991), (1, 0, 0.021544346900318822, 0.73220400000000008), (1, 0, 0.046415888336127774, 0.72988799999999998), (1, 0, 0.10000000000000001, 0.72628800000000004), (2, 0, 0.0001, 0.7656639999999999), (2, 0, 0.00021544346900318845, 0.76570799999999983), (2, 0, 0.00046415888336127773, 0.76570000000000005), (2, 0, 0.001, 0.76567599999999991), (2, 0, 0.0021544346900318821, 0.76539200000000007), (2, 0, 0.0046415888336127772, 0.76514800000000005), (2, 0, 0.01, 0.76461999999999997), (2, 0, 0.021544346900318822, 0.76370800000000005), (2, 0, 0.046415888336127774, 0.76160800000000006), (2, 0, 0.10000000000000001, 0.7586440000000001), (3, 0, 0.0001, 0.77853600000000001), (3, 0, 0.00021544346900318845, 0.77857199999999982), (3, 0, 0.00046415888336127773, 0.77854000000000001), (3, 0, 0.001, 0.77849600000000008), (3, 0, 0.0021544346900318821, 0.77838000000000007), (3, 0, 0.0046415888336127772, 0.77820800000000001), (3, 0, 0.01, 0.77736799999999995), (3, 0, 0.021544346900318822, 0.77606800000000009), (3, 0, 0.046415888336127774, 0.77448800000000007), (3, 0, 0.10000000000000001, 0.77229999999999999), (4, 0, 0.0001, 0.78682800000000008), (4, 0, 0.00021544346900318845, 0.78678400000000004), (4, 0, 0.00046415888336127773, 0.78671199999999997), (4, 0, 0.001, 0.78671999999999997), (4, 0, 0.0021544346900318821, 0.78642400000000001), (4, 0, 0.0046415888336127772, 0.78632399999999991), (4, 0, 0.01, 0.78581999999999996), (4, 0, 0.021544346900318822, 0.78500400000000004), (4, 0, 0.046415888336127774, 0.78359999999999996), (4, 0, 0.10000000000000001, 0.78073599999999987), (5, 0, 0.0001, 0.79035199999999994), (5, 0, 0.00021544346900318845, 0.79035999999999995), (5, 0, 0.00046415888336127773, 0.79035200000000005), (5, 0, 0.001, 0.79015200000000019), (5, 0, 0.0021544346900318821, 0.79005199999999998), (5, 0, 0.0046415888336127772, 0.78971999999999998), (5, 0, 0.01, 0.78938799999999998), (5, 0, 0.021544346900318822, 0.78843200000000002), (5, 0, 0.046415888336127774, 0.78710799999999992), (5, 0, 0.10000000000000001, 0.78299600000000003), (6, 0, 0.0001, 0.79237200000000008), (6, 0, 0.00021544346900318845, 0.79228799999999988), (6, 0, 0.00046415888336127773, 0.792292), (6, 0, 0.001, 0.79224399999999995), (6, 0, 0.0021544346900318821, 0.79211600000000004), (6, 0, 0.0046415888336127772, 0.791744), (6, 0, 0.01, 0.79148399999999997), (6, 0, 0.021544346900318822, 0.79037199999999996), (6, 0, 0.046415888336127774, 0.78767200000000004), (6, 0, 0.10000000000000001, 0.78367199999999992), (7, 0, 0.0001, 0.79874400000000001), (7, 0, 0.00021544346900318845, 0.79870399999999997), (7, 0, 0.00046415888336127773, 0.79867999999999995), (7, 0, 0.001, 0.79856400000000005), (7, 0, 0.0021544346900318821, 0.79844799999999994), (7, 0, 0.0046415888336127772, 0.79785600000000012), (7, 0, 0.01, 0.79682399999999998), (7, 0, 0.021544346900318822, 0.79540799999999989), (7, 0, 0.046415888336127774, 0.79200800000000005), (7, 0, 0.10000000000000001, 0.78665600000000002), (8, 0, 0.0001, 0.80580399999999996), (8, 0, 0.00021544346900318845, 0.78391600000000006), (8, 0, 0.00046415888336127773, 0.80592799999999998), (8, 0, 0.001, 0.80611200000000005), (8, 0, 0.0021544346900318821, 0.80585200000000001), (8, 0, 0.0046415888336127772, 0.80523600000000006), (8, 0, 0.01, 0.80350800000000011), (8, 0, 0.021544346900318822, 0.80201999999999996), (8, 0, 0.046415888336127774, 0.79735599999999995), (8, 0, 0.10000000000000001, 0.79014399999999996), (9, 0, 0.0001, 0.81082799999999988), (9, 0, 0.00021544346900318845, 0.81077600000000005), (9, 0, 0.00046415888336127773, 0.81069200000000008), (9, 0, 0.001, 0.81064000000000003), (9, 0, 0.0021544346900318821, 0.81010000000000004), (9, 0, 0.0046415888336127772, 0.80969200000000008), (9, 0, 0.01, 0.8086040000000001), (9, 0, 0.021544346900318822, 0.80594799999999989), (9, 0, 0.046415888336127774, 0.80041999999999991), (9, 0, 0.10000000000000001, 0.79125199999999996), (10, 0, 0.0001, 0.81158400000000008), (10, 0, 0.00021544346900318845, 0.81155200000000005), (10, 0, 0.00046415888336127773, 0.81136399999999997), (10, 0, 0.001, 0.81148400000000009), (10, 0, 0.0021544346900318821, 0.81108800000000003), (10, 0, 0.0046415888336127772, 0.80960800000000011), (10, 0, 0.01, 0.81003199999999997), (10, 0, 0.021544346900318822, 0.80767600000000006), (10, 0, 0.046415888336127774, 0.80079600000000006), (10, 0, 0.10000000000000001, 0.79322400000000004), (11, 0, 0.0001, 0.81307200000000002), (11, 0, 0.00021544346900318845, 0.81306800000000001), (11, 0, 0.00046415888336127773, 0.81297599999999992), (11, 0, 0.001, 0.81299200000000005), (11, 0, 0.0021544346900318821, 0.812724), (11, 0, 0.0046415888336127772, 0.80998400000000004), (11, 0, 0.01, 0.81114799999999998), (11, 0, 0.021544346900318822, 0.80840400000000001), (11, 0, 0.046415888336127774, 0.8034039999999999), (11, 0, 0.10000000000000001, 0.79440000000000011), (12, 0, 0.0001, 0.786524), (12, 0, 0.00021544346900318845, 0.80345200000000006), (12, 0, 0.00046415888336127773, 0.80970799999999998), (12, 0, 0.001, 0.79500800000000005), (12, 0, 0.0021544346900318821, 0.78279199999999993), (12, 0, 0.0046415888336127772, 0.79458000000000006), (12, 0, 0.01, 0.81098000000000003), (12, 0, 0.021544346900318822, 0.80934400000000006), (12, 0, 0.046415888336127774, 0.80342800000000003), (12, 0, 0.10000000000000001, 0.78961599999999998)]\n",
      "Best accuracy:  0.813072\n",
      "Best degree:  11\n",
      "Best gamma:  0\n",
      "Best lambda:  0.0001\n"
     ]
    }
   ],
   "source": [
    "model = \"ridge_regression\"\n",
    "seed = 3\n",
    "k_fold = 10\n",
    "k_indices = build_k_indices(y_train, k_fold, seed)\n",
    "degrees = np.arange(1, 13, 1)\n",
    "lambdas = np.logspace(-4, -1, 10)\n",
    "gammas = [0]\n",
    "max_iters = 0\n",
    "\n",
    "def cross_validation_demo(model, k_fold, k_indices, degrees, lambdas, gammas, max_iters, tx_train, y_train):\n",
    "    results = []\n",
    "    for degree in tqdm_notebook(degrees):\n",
    "        tx_poly = build_poly_tx(tx_train, degree)\n",
    "        initial_w = init_w(tx_poly)\n",
    "        for gamma in gammas:\n",
    "            for lambda_ in lambdas:\n",
    "                accs = []\n",
    "                ws = []\n",
    "                for k in range(k_fold):\n",
    "                    w_tr, acc = cross_validation(y_train, tx_poly.T, initial_w,\n",
    "                                                 max_iters,  k_indices, k, gamma, lambda_, LOWER_BOUND, UPPER_BOUND, model)\n",
    "                    ws.append(w_tr)\n",
    "                    accs.append(acc)\n",
    "                w_final = np.mean(ws, axis=0)\n",
    "                acc_mean = np.mean(accs)\n",
    "                results.append((degree, gamma, lambda_, acc_mean))\n",
    "\n",
    "                print(\"Finished: \" + str((degree, gamma, lambda_, acc_mean)))\n",
    "    \n",
    "    print(results)\n",
    "    \n",
    "    best_degree, best_gamma, best_lambda, best_acc_mean = max(results, key=lambda x: x[3])\n",
    "    print(\"Best accuracy: \",best_acc_mean)\n",
    "    print(\"Best degree: \", best_degree)\n",
    "    print(\"Best gamma: \", best_gamma)\n",
    "    print(\"Best lambda: \", best_lambda)\n",
    "    \n",
    "    return results\n",
    "\n",
    "results = cross_validation_demo(model, k_fold, k_indices, degrees, lambdas, gammas, max_iters, tx_train, y_train)"
   ]
  },
  {
   "cell_type": "code",
   "execution_count": 25,
   "metadata": {},
   "outputs": [
    {
     "data": {
      "text/plain": [
       "[(1, 0.7, 0, 0.75813200000000003)]"
      ]
     },
     "execution_count": 25,
     "metadata": {},
     "output_type": "execute_result"
    }
   ],
   "source": [
    "results"
   ]
  },
  {
   "cell_type": "markdown",
   "metadata": {},
   "source": [
    "# Performance"
   ]
  },
  {
   "cell_type": "code",
   "execution_count": 23,
   "metadata": {},
   "outputs": [
    {
     "name": "stderr",
     "output_type": "stream",
     "text": [
      "/Users/Joel/anaconda/lib/python3.5/site-packages/matplotlib/axes/_axes.py:4243: RuntimeWarning: divide by zero encountered in double_scalars\n",
      "  sy = (ymax - ymin) / ny\n",
      "/Users/Joel/anaconda/lib/python3.5/site-packages/matplotlib/axes/_axes.py:4346: RuntimeWarning: invalid value encountered in multiply\n",
      "  offsets[:, 1] *= sy\n"
     ]
    },
    {
     "data": {
      "image/png": "[encoded data removed]",
      "text/plain": [
       "<matplotlib.figure.Figure at 0x10b7de470>"
      ]
     },
     "metadata": {},
     "output_type": "display_data"
    }
   ],
   "source": [
    "import pandas as pd\n",
    "\n",
    "# show the best results for different parameters of the ridge regression\n",
    "def show_ridge_results(results, l_degrees):\n",
    "\n",
    "    df = pd.DataFrame.from_records(results, columns=['degree', 'gamma', 'lambda', 'acc'])\n",
    "    df.plot.hexbin(x='lambda', y='degree', C='acc', gridsize=l_degrees, figsize=(10,6), sharex=False, cmap='jet')\n",
    "    plt.show()\n",
    "    \n",
    "    return df\n",
    "    \n",
    "df = show_ridge_results(results, len(degrees))"
   ]
  },
  {
   "cell_type": "markdown",
   "metadata": {},
   "source": [
    "# Selecting best parameters"
   ]
  },
  {
   "cell_type": "code",
   "execution_count": 14,
   "metadata": {},
   "outputs": [
    {
     "data": {
      "text/plain": [
       "[array([[ 0.13681128],\n",
       "        [-0.09585492],\n",
       "        [ 0.03103595],\n",
       "        ..., \n",
       "        [-0.34341299],\n",
       "        [-0.06824147],\n",
       "        [-0.49605018]]), array([[ 0.1332059 ],\n",
       "        [-0.097928  ],\n",
       "        [ 0.05540158],\n",
       "        ..., \n",
       "        [-0.31900422],\n",
       "        [-0.05139256],\n",
       "        [-0.49016231]]), array([[ 0.14684682],\n",
       "        [-0.0766211 ],\n",
       "        [-0.02604242],\n",
       "        ..., \n",
       "        [-0.34806072],\n",
       "        [-0.07771574],\n",
       "        [-0.48895453]])]"
      ]
     },
     "execution_count": 14,
     "metadata": {},
     "output_type": "execute_result"
    }
   ],
   "source": [
    "def compute_raw_predictions(results, degrees, tx, y):\n",
    "    y_raw_preds = []\n",
    "    ws = []\n",
    "    for d in degrees:\n",
    "        r_d = [r for r in results if r[0] == d]\n",
    "        degree, gamma, lambda_, acc_mean = max(r_d, key=lambda x: x[3])\n",
    "        tx_poly = build_poly_tx(tx, d)\n",
    "        w, l = ridge_regression(y, tx_poly, lambda_)\n",
    "        ws.append(w)\n",
    "        y_raw_pred = np.dot(tx_poly.T, np.array(w))\n",
    "        y_raw_preds.append(y_raw_pred)\n",
    "        \n",
    "    return y_raw_preds, ws\n",
    "\n",
    "y_raw_preds, ws = compute_raw_predictions(results, [9, 10, 11], tx_train, y_train)\n",
    "y_raw_preds"
   ]
  },
  {
   "cell_type": "code",
   "execution_count": 15,
   "metadata": {},
   "outputs": [
    {
     "data": {
      "text/plain": [
       "array([[ 0.13895467],\n",
       "       [-0.09013467],\n",
       "       [ 0.0201317 ],\n",
       "       ..., \n",
       "       [-0.33682598],\n",
       "       [-0.06578326],\n",
       "       [-0.49172234]])"
      ]
     },
     "execution_count": 15,
     "metadata": {},
     "output_type": "execute_result"
    }
   ],
   "source": [
    "y_raw_preds_mean = np.mean(y_raw_preds, axis=0)\n",
    "y_raw_preds_mean"
   ]
  },
  {
   "cell_type": "code",
   "execution_count": 16,
   "metadata": {},
   "outputs": [
    {
     "name": "stdout",
     "output_type": "stream",
     "text": [
      "[[ 1.]\n",
      " [-1.]\n",
      " [ 1.]\n",
      " ..., \n",
      " [-1.]\n",
      " [-1.]\n",
      " [-1.]]\n"
     ]
    }
   ],
   "source": [
    "threshold = (UPPER_BOUND + LOWER_BOUND)/2\n",
    "y_raw_preds_mean[np.where(y_raw_preds_mean <= threshold)] = -1\n",
    "y_raw_preds_mean[np.where(y_raw_preds_mean > threshold)] = 1\n",
    "print(y_raw_preds_mean)"
   ]
  },
  {
   "cell_type": "code",
   "execution_count": 17,
   "metadata": {},
   "outputs": [
    {
     "data": {
      "text/plain": [
       "0.81234799999999996"
      ]
     },
     "execution_count": 17,
     "metadata": {},
     "output_type": "execute_result"
    }
   ],
   "source": [
    "np.mean(y_train == y_raw_preds_mean)"
   ]
  },
  {
   "cell_type": "code",
   "execution_count": 132,
   "metadata": {},
   "outputs": [
    {
     "data": {
      "text/plain": [
       "array([[ 1.],\n",
       "       [ 1.],\n",
       "       [ 1.],\n",
       "       ..., \n",
       "       [-1.],\n",
       "       [-1.],\n",
       "       [-1.]])"
      ]
     },
     "execution_count": 132,
     "metadata": {},
     "output_type": "execute_result"
    }
   ],
   "source": [
    "y_train"
   ]
  },
  {
   "cell_type": "code",
   "execution_count": 19,
   "metadata": {},
   "outputs": [
    {
     "data": {
      "text/plain": [
       "array([[ 0.13681128, -0.09585492,  0.03103595, ..., -0.34341299,\n",
       "        -0.06824147, -0.49605018],\n",
       "       [ 0.1332059 , -0.097928  ,  0.05540158, ..., -0.31900422,\n",
       "        -0.05139256, -0.49016231],\n",
       "       [ 0.14684682, -0.0766211 , -0.02604242, ..., -0.34806072,\n",
       "        -0.07771574, -0.48895453]])"
      ]
     },
     "execution_count": 19,
     "metadata": {},
     "output_type": "execute_result"
    }
   ],
   "source": [
    "tx = np.squeeze(y_raw_preds, axis=2)\n",
    "tx"
   ]
  },
  {
   "cell_type": "code",
   "execution_count": 20,
   "metadata": {},
   "outputs": [
    {
     "data": {
      "text/plain": [
       "0.81234799999999996"
      ]
     },
     "execution_count": 20,
     "metadata": {},
     "output_type": "execute_result"
    }
   ],
   "source": [
    "w, l = least_squares(y_train, tx)\n",
    "\n",
    "y_t = np.dot(tx.T, w)\n",
    "\n",
    "np.mean(y_train == y_raw_preds_mean)"
   ]
  },
  {
   "cell_type": "code",
   "execution_count": 21,
   "metadata": {},
   "outputs": [
    {
     "data": {
      "application/vnd.jupyter.widget-view+json": {
       "model_id": "6667ac1a6ee543aea179f4fbbaa46bd5"
      }
     },
     "metadata": {},
     "output_type": "display_data"
    },
    {
     "name": "stderr",
     "output_type": "stream",
     "text": [
      "/Users/Joel/Drive/EPFL/MA1/github/CS-433/project1/implementations.py:125: RuntimeWarning: overflow encountered in exp\n",
      "  exp_ = np.exp(tx.dot(w))\n",
      "/Users/Joel/Drive/EPFL/MA1/github/CS-433/project1/implementations.py:118: RuntimeWarning: overflow encountered in exp\n",
      "  return 1/(1+np.exp(-t))\n"
     ]
    },
    {
     "name": "stdout",
     "output_type": "stream",
     "text": [
      "Finished: (1, 0.7, 0, 0.75813200000000003)\n",
      "\n",
      "[(1, 0.7, 0, 0.75813200000000003)]\n",
      "Best accuracy:  0.758132\n",
      "Best degree:  1\n",
      "Best gamma:  0.7\n",
      "Best lambda:  0\n"
     ]
    }
   ],
   "source": [
    "model = \"logistic_regression\"\n",
    "seed = 3\n",
    "k_fold = 4\n",
    "k_indices = build_k_indices(y_train, k_fold, seed)\n",
    "degrees = [1]\n",
    "lambdas = [0]\n",
    "gammas = [0.7]\n",
    "max_iters = 1000\n",
    "\n",
    "def cross_validation_demo(model, k_fold, k_indices, degrees, lambdas, gammas, max_iters, tx_train, y_train):\n",
    "    results = []\n",
    "    for degree in tqdm_notebook(degrees):\n",
    "        tx_poly = build_poly_tx(tx_train, degree)\n",
    "        initial_w = init_w(tx_poly)\n",
    "        for gamma in gammas:\n",
    "            for lambda_ in lambdas:\n",
    "                accs = []\n",
    "                ws = []\n",
    "                for k in range(k_fold):\n",
    "                    w_tr, acc = cross_validation(y_train, tx_poly.T, initial_w,\n",
    "                                                 max_iters,  k_indices, k, gamma, lambda_, LOWER_BOUND, UPPER_BOUND, model)\n",
    "                    ws.append(w_tr)\n",
    "                    accs.append(acc)\n",
    "                w_final = np.mean(ws, axis=0)\n",
    "                acc_mean = np.mean(accs)\n",
    "                results.append((degree, gamma, lambda_, acc_mean))\n",
    "\n",
    "                print(\"Finished: \" + str((degree, gamma, lambda_, acc_mean)))\n",
    "    \n",
    "    print(results)\n",
    "    \n",
    "    best_degree, best_gamma, best_lambda, best_acc_mean = max(results, key=lambda x: x[3])\n",
    "    print(\"Best accuracy: \",best_acc_mean)\n",
    "    print(\"Best degree: \", best_degree)\n",
    "    print(\"Best gamma: \", best_gamma)\n",
    "    print(\"Best lambda: \", best_lambda)\n",
    "    \n",
    "    return results\n",
    "\n",
    "results = cross_validation_demo(model, k_fold, k_indices, degrees, lambdas, gammas, max_iters, tx, y_train)"
   ]
  },
  {
   "cell_type": "markdown",
   "metadata": {},
   "source": [
    "# Predict labels"
   ]
  },
  {
   "cell_type": "code",
   "execution_count": 35,
   "metadata": {
    "collapsed": true
   },
   "outputs": [],
   "source": [
    "from proj1_helpers import predict_labels_kaggle"
   ]
  },
  {
   "cell_type": "code",
   "execution_count": 46,
   "metadata": {
    "collapsed": true
   },
   "outputs": [],
   "source": [
    "y_pred = predict_labels_kaggle(w_final, tx_test.T, LOWER_BOUND, UPPER_BOUND)"
   ]
  },
  {
   "cell_type": "markdown",
   "metadata": {},
   "source": [
    "# Submission"
   ]
  },
  {
   "cell_type": "code",
   "execution_count": 47,
   "metadata": {
    "collapsed": true
   },
   "outputs": [],
   "source": [
    "from proj1_helpers import create_csv_submission"
   ]
  },
  {
   "cell_type": "code",
   "execution_count": 48,
   "metadata": {
    "collapsed": true
   },
   "outputs": [],
   "source": [
    "create_csv_submission(ids_test, y_pred, \"test11.csv\")"
   ]
  },
  {
   "cell_type": "markdown",
   "metadata": {},
   "source": [
    "Test n : algorithm / features / y / w\n",
    "- - - - - - - - - - - - - - - - - - - \n",
    "Test 1 : least_squares / all features standardized / y = -1,1 / random init_w\n",
    "\n",
    "Test 2 : least_squares / corr > 0.1 features standardized / y = -1,1 / random init_w\n",
    "\n",
    "Test 3 : least_squares_GD(10000,0.5) / all features standardized / y = -1,1 / random init_w\n",
    "\n",
    "Test 4 : least_squares_GD(10000,0.5) / all features standardized / y = -1,1 / random init_w / poly, degree=1\n",
    "\n",
    "Test 5 : least_squares / all features standardized / y = -1,1 / random init_w / median + categorical\n",
    "\n",
    "Test 6 : logistic_regressoin  /all features standardized / y = 0,1 / random init_w / median + categorical + balanced\n",
    "\n",
    "Test 7 : least_squares / all features standardized / y = 0,1 / random init_w\n",
    "\n",
    "Test 8 : Test 1\n",
    "\n",
    "Test 9 : Test 1\n",
    "\n",
    "Test 10 : Test 1 / standardized test_set with mean and std from train_set\n",
    "\n",
    "Test 11 : Test 1 / standardized test_set with mean and std from train_set / balance"
   ]
  },
  {
   "cell_type": "markdown",
   "metadata": {},
   "source": [
    "## Further work"
   ]
  },
  {
   "cell_type": "markdown",
   "metadata": {},
   "source": [
    "- balance output (batch numpy)\n",
    "- median and category\n",
    "- features engineering : features d'intéraction\n",
    "- logistic regression "
   ]
  }
 ],
 "metadata": {
  "kernelspec": {
   "display_name": "Python 3",
   "language": "python",
   "name": "python3"
  },
  "language_info": {
   "codemirror_mode": {
    "name": "ipython",
    "version": 3
   },
   "file_extension": ".py",
   "mimetype": "text/x-python",
   "name": "python",
   "nbconvert_exporter": "python",
   "pygments_lexer": "ipython3",
   "version": "3.5.3"
  }
 },
 "nbformat": 4,
 "nbformat_minor": 2
}
