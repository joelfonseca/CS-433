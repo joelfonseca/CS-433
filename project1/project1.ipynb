{
 "cells": [
  {
   "cell_type": "code",
   "execution_count": 235,
   "metadata": {
    "collapsed": true
   },
   "outputs": [],
   "source": [
    "import pandas as pd\n",
    "import numpy as np\n",
    "import csv"
   ]
  },
  {
   "cell_type": "markdown",
   "metadata": {},
   "source": [
    "# Import data"
   ]
  },
  {
   "cell_type": "code",
   "execution_count": 236,
   "metadata": {
    "collapsed": true
   },
   "outputs": [],
   "source": [
    "DATA_FOLDER = \"competition-data/\"\n",
    "DATA_TEST = \"test.csv\"\n",
    "DATA_TRAIN = \"train.csv\""
   ]
  },
  {
   "cell_type": "code",
   "execution_count": 237,
   "metadata": {
    "collapsed": true
   },
   "outputs": [],
   "source": [
    "train_path = DATA_FOLDER + DATA_TRAIN\n",
    "train_data = pd.read_csv(train_path, na_values=[-999.000, 0.0])"
   ]
  },
  {
   "cell_type": "code",
   "execution_count": 238,
   "metadata": {
    "collapsed": true
   },
   "outputs": [],
   "source": [
    "test_path = DATA_FOLDER + DATA_TEST\n",
    "test_data = pd.read_csv(test_path, na_values=[-999.000, 0.0])"
   ]
  },
  {
   "cell_type": "code",
   "execution_count": 239,
   "metadata": {},
   "outputs": [
    {
     "data": {
      "text/html": [
       "<div>\n",
       "<style>\n",
       "    .dataframe thead tr:only-child th {\n",
       "        text-align: right;\n",
       "    }\n",
       "\n",
       "    .dataframe thead th {\n",
       "        text-align: left;\n",
       "    }\n",
       "\n",
       "    .dataframe tbody tr th {\n",
       "        vertical-align: top;\n",
       "    }\n",
       "</style>\n",
       "<table border=\"1\" class=\"dataframe\">\n",
       "  <thead>\n",
       "    <tr style=\"text-align: right;\">\n",
       "      <th></th>\n",
       "      <th>Id</th>\n",
       "      <th>Prediction</th>\n",
       "      <th>DER_mass_MMC</th>\n",
       "      <th>DER_mass_transverse_met_lep</th>\n",
       "      <th>DER_mass_vis</th>\n",
       "      <th>DER_pt_h</th>\n",
       "      <th>DER_deltaeta_jet_jet</th>\n",
       "      <th>DER_mass_jet_jet</th>\n",
       "      <th>DER_prodeta_jet_jet</th>\n",
       "      <th>DER_deltar_tau_lep</th>\n",
       "      <th>...</th>\n",
       "      <th>PRI_met_phi</th>\n",
       "      <th>PRI_met_sumet</th>\n",
       "      <th>PRI_jet_num</th>\n",
       "      <th>PRI_jet_leading_pt</th>\n",
       "      <th>PRI_jet_leading_eta</th>\n",
       "      <th>PRI_jet_leading_phi</th>\n",
       "      <th>PRI_jet_subleading_pt</th>\n",
       "      <th>PRI_jet_subleading_eta</th>\n",
       "      <th>PRI_jet_subleading_phi</th>\n",
       "      <th>PRI_jet_all_pt</th>\n",
       "    </tr>\n",
       "  </thead>\n",
       "  <tbody>\n",
       "    <tr>\n",
       "      <th>0</th>\n",
       "      <td>100000</td>\n",
       "      <td>s</td>\n",
       "      <td>138.470</td>\n",
       "      <td>51.655</td>\n",
       "      <td>97.827</td>\n",
       "      <td>27.980</td>\n",
       "      <td>0.91</td>\n",
       "      <td>124.711</td>\n",
       "      <td>2.666</td>\n",
       "      <td>3.064</td>\n",
       "      <td>...</td>\n",
       "      <td>-0.277</td>\n",
       "      <td>258.733</td>\n",
       "      <td>2.0</td>\n",
       "      <td>67.435</td>\n",
       "      <td>2.150</td>\n",
       "      <td>0.444</td>\n",
       "      <td>46.062</td>\n",
       "      <td>1.24</td>\n",
       "      <td>-2.475</td>\n",
       "      <td>113.497</td>\n",
       "    </tr>\n",
       "    <tr>\n",
       "      <th>1</th>\n",
       "      <td>100001</td>\n",
       "      <td>b</td>\n",
       "      <td>160.937</td>\n",
       "      <td>68.768</td>\n",
       "      <td>103.235</td>\n",
       "      <td>48.146</td>\n",
       "      <td>NaN</td>\n",
       "      <td>NaN</td>\n",
       "      <td>NaN</td>\n",
       "      <td>3.473</td>\n",
       "      <td>...</td>\n",
       "      <td>-1.916</td>\n",
       "      <td>164.546</td>\n",
       "      <td>1.0</td>\n",
       "      <td>46.226</td>\n",
       "      <td>0.725</td>\n",
       "      <td>1.158</td>\n",
       "      <td>NaN</td>\n",
       "      <td>NaN</td>\n",
       "      <td>NaN</td>\n",
       "      <td>46.226</td>\n",
       "    </tr>\n",
       "    <tr>\n",
       "      <th>2</th>\n",
       "      <td>100002</td>\n",
       "      <td>b</td>\n",
       "      <td>NaN</td>\n",
       "      <td>162.172</td>\n",
       "      <td>125.953</td>\n",
       "      <td>35.635</td>\n",
       "      <td>NaN</td>\n",
       "      <td>NaN</td>\n",
       "      <td>NaN</td>\n",
       "      <td>3.148</td>\n",
       "      <td>...</td>\n",
       "      <td>-2.186</td>\n",
       "      <td>260.414</td>\n",
       "      <td>1.0</td>\n",
       "      <td>44.251</td>\n",
       "      <td>2.053</td>\n",
       "      <td>-2.028</td>\n",
       "      <td>NaN</td>\n",
       "      <td>NaN</td>\n",
       "      <td>NaN</td>\n",
       "      <td>44.251</td>\n",
       "    </tr>\n",
       "    <tr>\n",
       "      <th>3</th>\n",
       "      <td>100003</td>\n",
       "      <td>b</td>\n",
       "      <td>143.905</td>\n",
       "      <td>81.417</td>\n",
       "      <td>80.943</td>\n",
       "      <td>0.414</td>\n",
       "      <td>NaN</td>\n",
       "      <td>NaN</td>\n",
       "      <td>NaN</td>\n",
       "      <td>3.310</td>\n",
       "      <td>...</td>\n",
       "      <td>0.060</td>\n",
       "      <td>86.062</td>\n",
       "      <td>NaN</td>\n",
       "      <td>NaN</td>\n",
       "      <td>NaN</td>\n",
       "      <td>NaN</td>\n",
       "      <td>NaN</td>\n",
       "      <td>NaN</td>\n",
       "      <td>NaN</td>\n",
       "      <td>NaN</td>\n",
       "    </tr>\n",
       "    <tr>\n",
       "      <th>4</th>\n",
       "      <td>100004</td>\n",
       "      <td>b</td>\n",
       "      <td>175.864</td>\n",
       "      <td>16.915</td>\n",
       "      <td>134.805</td>\n",
       "      <td>16.405</td>\n",
       "      <td>NaN</td>\n",
       "      <td>NaN</td>\n",
       "      <td>NaN</td>\n",
       "      <td>3.891</td>\n",
       "      <td>...</td>\n",
       "      <td>-0.871</td>\n",
       "      <td>53.131</td>\n",
       "      <td>NaN</td>\n",
       "      <td>NaN</td>\n",
       "      <td>NaN</td>\n",
       "      <td>NaN</td>\n",
       "      <td>NaN</td>\n",
       "      <td>NaN</td>\n",
       "      <td>NaN</td>\n",
       "      <td>NaN</td>\n",
       "    </tr>\n",
       "  </tbody>\n",
       "</table>\n",
       "<p>5 rows × 32 columns</p>\n",
       "</div>"
      ],
      "text/plain": [
       "       Id Prediction  DER_mass_MMC  DER_mass_transverse_met_lep  DER_mass_vis  \\\n",
       "0  100000          s       138.470                       51.655        97.827   \n",
       "1  100001          b       160.937                       68.768       103.235   \n",
       "2  100002          b           NaN                      162.172       125.953   \n",
       "3  100003          b       143.905                       81.417        80.943   \n",
       "4  100004          b       175.864                       16.915       134.805   \n",
       "\n",
       "   DER_pt_h  DER_deltaeta_jet_jet  DER_mass_jet_jet  DER_prodeta_jet_jet  \\\n",
       "0    27.980                  0.91           124.711                2.666   \n",
       "1    48.146                   NaN               NaN                  NaN   \n",
       "2    35.635                   NaN               NaN                  NaN   \n",
       "3     0.414                   NaN               NaN                  NaN   \n",
       "4    16.405                   NaN               NaN                  NaN   \n",
       "\n",
       "   DER_deltar_tau_lep       ...        PRI_met_phi  PRI_met_sumet  \\\n",
       "0               3.064       ...             -0.277        258.733   \n",
       "1               3.473       ...             -1.916        164.546   \n",
       "2               3.148       ...             -2.186        260.414   \n",
       "3               3.310       ...              0.060         86.062   \n",
       "4               3.891       ...             -0.871         53.131   \n",
       "\n",
       "   PRI_jet_num  PRI_jet_leading_pt  PRI_jet_leading_eta  PRI_jet_leading_phi  \\\n",
       "0          2.0              67.435                2.150                0.444   \n",
       "1          1.0              46.226                0.725                1.158   \n",
       "2          1.0              44.251                2.053               -2.028   \n",
       "3          NaN                 NaN                  NaN                  NaN   \n",
       "4          NaN                 NaN                  NaN                  NaN   \n",
       "\n",
       "   PRI_jet_subleading_pt  PRI_jet_subleading_eta  PRI_jet_subleading_phi  \\\n",
       "0                 46.062                    1.24                  -2.475   \n",
       "1                    NaN                     NaN                     NaN   \n",
       "2                    NaN                     NaN                     NaN   \n",
       "3                    NaN                     NaN                     NaN   \n",
       "4                    NaN                     NaN                     NaN   \n",
       "\n",
       "   PRI_jet_all_pt  \n",
       "0         113.497  \n",
       "1          46.226  \n",
       "2          44.251  \n",
       "3             NaN  \n",
       "4             NaN  \n",
       "\n",
       "[5 rows x 32 columns]"
      ]
     },
     "execution_count": 239,
     "metadata": {},
     "output_type": "execute_result"
    }
   ],
   "source": [
    "train_data.head()"
   ]
  },
  {
   "cell_type": "code",
   "execution_count": 240,
   "metadata": {
    "collapsed": true
   },
   "outputs": [],
   "source": [
    "# constants\n",
    "CATEGORICAL_FIELDS = ['PRI_jet_num']"
   ]
  },
  {
   "cell_type": "code",
   "execution_count": 241,
   "metadata": {
    "collapsed": true
   },
   "outputs": [],
   "source": [
    "y = rename_y(1, -1, train_data['Prediction'])\n"
   ]
  },
  {
   "cell_type": "code",
   "execution_count": 242,
   "metadata": {},
   "outputs": [],
   "source": [
    "# only the features\n",
    "train_data = train_data.loc[:, (train_data.columns != \"Id\") & (train_data.columns != \"Prediction\")]\n",
    "test_data = test_data.loc[:, (test_data.columns != \"Id\") & (test_data.columns != \"Prediction\")]"
   ]
  },
  {
   "cell_type": "code",
   "execution_count": 243,
   "metadata": {},
   "outputs": [
    {
     "data": {
      "text/plain": [
       "DER_mass_MMC                   0.152456\n",
       "DER_mass_transverse_met_lep    0.000012\n",
       "DER_mass_vis                   0.000000\n",
       "DER_pt_h                       0.000164\n",
       "DER_deltaeta_jet_jet           0.709852\n",
       "DER_mass_jet_jet               0.709828\n",
       "DER_prodeta_jet_jet            0.710060\n",
       "DER_deltar_tau_lep             0.000000\n",
       "DER_pt_tot                     0.000156\n",
       "DER_sum_pt                     0.000000\n",
       "DER_pt_ratio_lep_tau           0.000000\n",
       "DER_met_phi_centrality         0.000212\n",
       "DER_lep_eta_centrality         0.772836\n",
       "PRI_tau_pt                     0.000000\n",
       "PRI_tau_eta                    0.000000\n",
       "PRI_tau_phi                    0.000128\n",
       "PRI_lep_pt                     0.000000\n",
       "PRI_lep_eta                    0.000140\n",
       "PRI_lep_phi                    0.000132\n",
       "PRI_met                        0.000000\n",
       "PRI_met_phi                    0.000176\n",
       "PRI_met_sumet                  0.000000\n",
       "PRI_jet_num                    0.399652\n",
       "PRI_jet_leading_pt             0.399652\n",
       "PRI_jet_leading_eta            0.399756\n",
       "PRI_jet_leading_phi            0.399728\n",
       "PRI_jet_subleading_pt          0.709828\n",
       "PRI_jet_subleading_eta         0.709864\n",
       "PRI_jet_subleading_phi         0.709868\n",
       "PRI_jet_all_pt                 0.399652\n",
       "dtype: float64"
      ]
     },
     "execution_count": 243,
     "metadata": {},
     "output_type": "execute_result"
    }
   ],
   "source": [
    "train_data.isnull().sum()/250000"
   ]
  },
  {
   "cell_type": "markdown",
   "metadata": {},
   "source": [
    "# clean data"
   ]
  },
  {
   "cell_type": "markdown",
   "metadata": {},
   "source": [
    "# median and category (most frequent policy)"
   ]
  },
  {
   "cell_type": "code",
   "execution_count": 251,
   "metadata": {
    "collapsed": true
   },
   "outputs": [],
   "source": [
    "def median_rep_data(train_data, test_data):\n",
    "    complete_data = pd.concat([test_data, train_data])\n",
    "    complete_data_median = complete_data.median()\n",
    "    median_rep_data_train = train_data.fillna(complete_data_median)\n",
    "    median_rep_data_test = test_data.fillna(complete_data_median)\n",
    "    \n",
    "    return (median_rep_data_train, median_rep_data_test)\n",
    "\n",
    "def categorical_rep_data(column):\n",
    "    column_wo_nan = column.dropna()\n",
    "    v = column_wo_nan.value_counts().idxmax()\n",
    "    \n",
    "    return column.fillna(v)"
   ]
  },
  {
   "cell_type": "code",
   "execution_count": 252,
   "metadata": {},
   "outputs": [],
   "source": [
    "(median_rep_data_train, median_rep_data_test) = median_rep_data(train_data, test_data)\n",
    "\n",
    "for c in CATEGORICAL_FIELDS:\n",
    "    median_rep_data_train[c] = categorical_rep_data(train_data[c])\n",
    "    median_rep_data_test[c] = categorical_rep_data(test_data[c])"
   ]
  },
  {
   "cell_type": "code",
   "execution_count": 253,
   "metadata": {},
   "outputs": [
    {
     "data": {
      "text/html": [
       "<div>\n",
       "<style>\n",
       "    .dataframe thead tr:only-child th {\n",
       "        text-align: right;\n",
       "    }\n",
       "\n",
       "    .dataframe thead th {\n",
       "        text-align: left;\n",
       "    }\n",
       "\n",
       "    .dataframe tbody tr th {\n",
       "        vertical-align: top;\n",
       "    }\n",
       "</style>\n",
       "<table border=\"1\" class=\"dataframe\">\n",
       "  <thead>\n",
       "    <tr style=\"text-align: right;\">\n",
       "      <th></th>\n",
       "      <th>DER_mass_MMC</th>\n",
       "      <th>DER_mass_transverse_met_lep</th>\n",
       "      <th>DER_mass_vis</th>\n",
       "      <th>DER_pt_h</th>\n",
       "      <th>DER_deltaeta_jet_jet</th>\n",
       "      <th>DER_mass_jet_jet</th>\n",
       "      <th>DER_prodeta_jet_jet</th>\n",
       "      <th>DER_deltar_tau_lep</th>\n",
       "      <th>DER_pt_tot</th>\n",
       "      <th>DER_sum_pt</th>\n",
       "      <th>...</th>\n",
       "      <th>PRI_met_phi</th>\n",
       "      <th>PRI_met_sumet</th>\n",
       "      <th>PRI_jet_num</th>\n",
       "      <th>PRI_jet_leading_pt</th>\n",
       "      <th>PRI_jet_leading_eta</th>\n",
       "      <th>PRI_jet_leading_phi</th>\n",
       "      <th>PRI_jet_subleading_pt</th>\n",
       "      <th>PRI_jet_subleading_eta</th>\n",
       "      <th>PRI_jet_subleading_phi</th>\n",
       "      <th>PRI_jet_all_pt</th>\n",
       "    </tr>\n",
       "  </thead>\n",
       "  <tbody>\n",
       "    <tr>\n",
       "      <th>0</th>\n",
       "      <td>138.470</td>\n",
       "      <td>51.655</td>\n",
       "      <td>97.827</td>\n",
       "      <td>27.980</td>\n",
       "      <td>0.910</td>\n",
       "      <td>124.711</td>\n",
       "      <td>2.666</td>\n",
       "      <td>3.064</td>\n",
       "      <td>41.928</td>\n",
       "      <td>197.760</td>\n",
       "      <td>...</td>\n",
       "      <td>-0.277</td>\n",
       "      <td>258.733</td>\n",
       "      <td>2.0</td>\n",
       "      <td>67.435</td>\n",
       "      <td>2.150</td>\n",
       "      <td>0.444</td>\n",
       "      <td>46.062</td>\n",
       "      <td>1.240</td>\n",
       "      <td>-2.475</td>\n",
       "      <td>113.497</td>\n",
       "    </tr>\n",
       "    <tr>\n",
       "      <th>1</th>\n",
       "      <td>160.937</td>\n",
       "      <td>68.768</td>\n",
       "      <td>103.235</td>\n",
       "      <td>48.146</td>\n",
       "      <td>2.102</td>\n",
       "      <td>226.193</td>\n",
       "      <td>-0.246</td>\n",
       "      <td>3.473</td>\n",
       "      <td>2.078</td>\n",
       "      <td>125.157</td>\n",
       "      <td>...</td>\n",
       "      <td>-1.916</td>\n",
       "      <td>164.546</td>\n",
       "      <td>1.0</td>\n",
       "      <td>46.226</td>\n",
       "      <td>0.725</td>\n",
       "      <td>1.158</td>\n",
       "      <td>47.993</td>\n",
       "      <td>-0.012</td>\n",
       "      <td>-0.021</td>\n",
       "      <td>46.226</td>\n",
       "    </tr>\n",
       "    <tr>\n",
       "      <th>2</th>\n",
       "      <td>112.501</td>\n",
       "      <td>162.172</td>\n",
       "      <td>125.953</td>\n",
       "      <td>35.635</td>\n",
       "      <td>2.102</td>\n",
       "      <td>226.193</td>\n",
       "      <td>-0.246</td>\n",
       "      <td>3.148</td>\n",
       "      <td>9.336</td>\n",
       "      <td>197.814</td>\n",
       "      <td>...</td>\n",
       "      <td>-2.186</td>\n",
       "      <td>260.414</td>\n",
       "      <td>1.0</td>\n",
       "      <td>44.251</td>\n",
       "      <td>2.053</td>\n",
       "      <td>-2.028</td>\n",
       "      <td>47.993</td>\n",
       "      <td>-0.012</td>\n",
       "      <td>-0.021</td>\n",
       "      <td>44.251</td>\n",
       "    </tr>\n",
       "    <tr>\n",
       "      <th>3</th>\n",
       "      <td>143.905</td>\n",
       "      <td>81.417</td>\n",
       "      <td>80.943</td>\n",
       "      <td>0.414</td>\n",
       "      <td>2.102</td>\n",
       "      <td>226.193</td>\n",
       "      <td>-0.246</td>\n",
       "      <td>3.310</td>\n",
       "      <td>0.414</td>\n",
       "      <td>75.968</td>\n",
       "      <td>...</td>\n",
       "      <td>0.060</td>\n",
       "      <td>86.062</td>\n",
       "      <td>1.0</td>\n",
       "      <td>65.760</td>\n",
       "      <td>0.001</td>\n",
       "      <td>-0.044</td>\n",
       "      <td>47.993</td>\n",
       "      <td>-0.012</td>\n",
       "      <td>-0.021</td>\n",
       "      <td>92.040</td>\n",
       "    </tr>\n",
       "    <tr>\n",
       "      <th>4</th>\n",
       "      <td>175.864</td>\n",
       "      <td>16.915</td>\n",
       "      <td>134.805</td>\n",
       "      <td>16.405</td>\n",
       "      <td>2.102</td>\n",
       "      <td>226.193</td>\n",
       "      <td>-0.246</td>\n",
       "      <td>3.891</td>\n",
       "      <td>16.405</td>\n",
       "      <td>57.983</td>\n",
       "      <td>...</td>\n",
       "      <td>-0.871</td>\n",
       "      <td>53.131</td>\n",
       "      <td>1.0</td>\n",
       "      <td>65.760</td>\n",
       "      <td>0.001</td>\n",
       "      <td>-0.044</td>\n",
       "      <td>47.993</td>\n",
       "      <td>-0.012</td>\n",
       "      <td>-0.021</td>\n",
       "      <td>92.040</td>\n",
       "    </tr>\n",
       "  </tbody>\n",
       "</table>\n",
       "<p>5 rows × 30 columns</p>\n",
       "</div>"
      ],
      "text/plain": [
       "   DER_mass_MMC  DER_mass_transverse_met_lep  DER_mass_vis  DER_pt_h  \\\n",
       "0       138.470                       51.655        97.827    27.980   \n",
       "1       160.937                       68.768       103.235    48.146   \n",
       "2       112.501                      162.172       125.953    35.635   \n",
       "3       143.905                       81.417        80.943     0.414   \n",
       "4       175.864                       16.915       134.805    16.405   \n",
       "\n",
       "   DER_deltaeta_jet_jet  DER_mass_jet_jet  DER_prodeta_jet_jet  \\\n",
       "0                 0.910           124.711                2.666   \n",
       "1                 2.102           226.193               -0.246   \n",
       "2                 2.102           226.193               -0.246   \n",
       "3                 2.102           226.193               -0.246   \n",
       "4                 2.102           226.193               -0.246   \n",
       "\n",
       "   DER_deltar_tau_lep  DER_pt_tot  DER_sum_pt       ...        PRI_met_phi  \\\n",
       "0               3.064      41.928     197.760       ...             -0.277   \n",
       "1               3.473       2.078     125.157       ...             -1.916   \n",
       "2               3.148       9.336     197.814       ...             -2.186   \n",
       "3               3.310       0.414      75.968       ...              0.060   \n",
       "4               3.891      16.405      57.983       ...             -0.871   \n",
       "\n",
       "   PRI_met_sumet  PRI_jet_num  PRI_jet_leading_pt  PRI_jet_leading_eta  \\\n",
       "0        258.733          2.0              67.435                2.150   \n",
       "1        164.546          1.0              46.226                0.725   \n",
       "2        260.414          1.0              44.251                2.053   \n",
       "3         86.062          1.0              65.760                0.001   \n",
       "4         53.131          1.0              65.760                0.001   \n",
       "\n",
       "   PRI_jet_leading_phi  PRI_jet_subleading_pt  PRI_jet_subleading_eta  \\\n",
       "0                0.444                 46.062                   1.240   \n",
       "1                1.158                 47.993                  -0.012   \n",
       "2               -2.028                 47.993                  -0.012   \n",
       "3               -0.044                 47.993                  -0.012   \n",
       "4               -0.044                 47.993                  -0.012   \n",
       "\n",
       "   PRI_jet_subleading_phi  PRI_jet_all_pt  \n",
       "0                  -2.475         113.497  \n",
       "1                  -0.021          46.226  \n",
       "2                  -0.021          44.251  \n",
       "3                  -0.021          92.040  \n",
       "4                  -0.021          92.040  \n",
       "\n",
       "[5 rows x 30 columns]"
      ]
     },
     "execution_count": 253,
     "metadata": {},
     "output_type": "execute_result"
    }
   ],
   "source": [
    "median_rep_data_train.head()"
   ]
  },
  {
   "cell_type": "code",
   "execution_count": 75,
   "metadata": {
    "collapsed": true
   },
   "outputs": [],
   "source": [
    "def rename_y(higgs_value, background_value, named_y):\n",
    "    return pd.Series(list(map(lambda x : higgs_value if x=='s' else background_value, named_y)))"
   ]
  },
  {
   "cell_type": "code",
   "execution_count": 175,
   "metadata": {},
   "outputs": [
    {
     "data": {
      "text/plain": [
       "b    164333\n",
       "s     85667\n",
       "Name: Prediction, dtype: int64"
      ]
     },
     "execution_count": 175,
     "metadata": {},
     "output_type": "execute_result"
    }
   ],
   "source": [
    "train_data['Prediction'].value_counts()"
   ]
  },
  {
   "cell_type": "code",
   "execution_count": null,
   "metadata": {
    "collapsed": true
   },
   "outputs": [],
   "source": []
  },
  {
   "cell_type": "markdown",
   "metadata": {},
   "source": [
    "# balance output/input"
   ]
  },
  {
   "cell_type": "code",
   "execution_count": null,
   "metadata": {
    "collapsed": true
   },
   "outputs": [],
   "source": []
  },
  {
   "cell_type": "code",
   "execution_count": 255,
   "metadata": {
    "collapsed": true
   },
   "outputs": [],
   "source": [
    "features = median_rep_data_train[median_rep_data_train.columns[2:-1]].apply(lambda x: x.corr(y)).sort_values().where(lambda x : abs(x) > 0).dropna().index"
   ]
  },
  {
   "cell_type": "code",
   "execution_count": 256,
   "metadata": {},
   "outputs": [],
   "source": [
    "sanitized_train_data = median_rep_data_train[features]\n",
    "sanitized_test_data = median_rep_data_test[features]"
   ]
  },
  {
   "cell_type": "code",
   "execution_count": 257,
   "metadata": {
    "collapsed": true
   },
   "outputs": [],
   "source": [
    "def extract_tx(sanitized_train_data, sanitized_test_data):\n",
    "    tx_train = sanitized_train_data[sanitized_train_data.columns[2:]].values\n",
    "    tx_test = sanitized_test_data[sanitized_test_data.columns[2:]].values\n",
    "    \n",
    "    return (tx_train, tx_test)"
   ]
  },
  {
   "cell_type": "code",
   "execution_count": 258,
   "metadata": {
    "collapsed": true
   },
   "outputs": [],
   "source": [
    "(tx_train, tx_test) = extract_tx(sanitized_train_data, sanitized_test_data)"
   ]
  },
  {
   "cell_type": "code",
   "execution_count": 259,
   "metadata": {
    "collapsed": true
   },
   "outputs": [],
   "source": [
    "def init_w(tx):\n",
    "    return np.random.rand(tx.shape[1])"
   ]
  },
  {
   "cell_type": "code",
   "execution_count": 260,
   "metadata": {},
   "outputs": [
    {
     "data": {
      "text/plain": [
       "array([ 0.59265594,  0.03120041,  0.04328736,  0.76829106,  0.04707385,\n",
       "        0.5826421 ,  0.01867113,  0.64860029,  0.07359482,  0.29635716,\n",
       "        0.23869248,  0.93118973,  0.38763875,  0.3637642 ,  0.59855078,\n",
       "        0.34380471,  0.20047415,  0.76984161,  0.97921889,  0.42688736,\n",
       "        0.38239268,  0.32253567,  0.30520061,  0.39644763,  0.96423429])"
      ]
     },
     "execution_count": 260,
     "metadata": {},
     "output_type": "execute_result"
    }
   ],
   "source": [
    "initial_w = init_w(tx_train)\n",
    "initial_w"
   ]
  },
  {
   "cell_type": "markdown",
   "metadata": {},
   "source": [
    "# Algorithms"
   ]
  },
  {
   "cell_type": "code",
   "execution_count": 261,
   "metadata": {
    "collapsed": true
   },
   "outputs": [],
   "source": [
    "def compute_gradient(y, tx, w):\n",
    "    # Compute the gradient and loss using MSE\n",
    "\n",
    "    N = len(y)\n",
    "    e = y - tx.dot(w)\n",
    "    gradient = -1/N * tx.T.dot(e)\n",
    "\n",
    "    return gradient\n",
    "\n",
    "def compute_loss(y, tx, w):\n",
    "    # Compute the gradient and loss using MSE\n",
    "\n",
    "    N = len(y)\n",
    "    e = y - tx.dot(w)\n",
    "    loss = 1/(2*N) * np.sum(e**2, axis=0)\n",
    "\n",
    "    return loss\n",
    "\n",
    "def least_squares_GD(y, tx, initial_w, max_iters, gamma):\n",
    "    # Linear regression using gradient descent\n",
    "\n",
    "    w = initial_w\n",
    "    for n_iter in range(max_iters):\n",
    "        # compute gradient and loss\n",
    "        gradient = compute_gradient(y, tx, w)\n",
    "        loss = compute_loss(y, tx, w)\n",
    "        # update w by gradient\n",
    "        w = w - gamma/(n_iter+1) * gradient\n",
    "\n",
    "    return (w, loss)\n",
    "\n",
    "def standardize(x):\n",
    "    \n",
    "    centered_data = x - np.mean(x, axis=0)\n",
    "    std_data = centered_data / np.std(centered_data, axis=0)\n",
    "    \n",
    "    return std_data\n",
    "\n",
    "def least_squares(y, tx):\n",
    "    # Least squares regression using normal equations\n",
    "\n",
    "\n",
    "    w = np.linalg.solve(tx.T.dot(tx), tx.T.dot(y))\n",
    "    loss = compute_loss(y, tx, w)\n",
    "\n",
    "    return (w, loss)\n",
    "\n",
    "def build_poly_feature(x, degree):\n",
    "    \"\"\"polynomial basis functions for input data x, for j=0 up to j=degree.\"\"\"\n",
    "    # ***************************************************\n",
    "    # INSERT YOUR CODE HERE\n",
    "    # polynomial basis function: TODO\n",
    "    # this function should return the matrix formed\n",
    "    # by applying the polynomial basis to the input data\n",
    "    # ***************************************************\n",
    "    \n",
    "    if x.ndim == 1:\n",
    "        x = x[:,np.newaxis]\n",
    "    \n",
    "    polynomial_basis = x**0\n",
    "    \n",
    "    for j in range(1,degree+1):\n",
    "        #polynomial_basis = np.concatenate((polynomial_basis,x**j), axis=1)\n",
    "        polynomial_basis = np.hstack((polynomial_basis, x**j))\n",
    "    return polynomial_basis\n",
    "\n",
    "def build_poly_tx(tx, degree):\n",
    "    tx_polynomial = build_poly_feature(tx.T[0].T, degree)\n",
    "    for c in tx.T[1:]:\n",
    "        tx_polynomial = np.hstack((tx_polynomial, build_poly_feature(c.T, degree)))\n",
    "    return tx_polynomial"
   ]
  },
  {
   "cell_type": "code",
   "execution_count": 262,
   "metadata": {
    "collapsed": true
   },
   "outputs": [],
   "source": [
    "tx_train = standardize(tx_train)\n",
    "tx_test = standardize(tx_test)"
   ]
  },
  {
   "cell_type": "markdown",
   "metadata": {},
   "source": [
    "## least_squares_GD"
   ]
  },
  {
   "cell_type": "code",
   "execution_count": 163,
   "metadata": {},
   "outputs": [
    {
     "name": "stdout",
     "output_type": "stream",
     "text": [
      "CPU times: user 7.27 s, sys: 813 ms, total: 8.09 s\n",
      "Wall time: 1.64 s\n"
     ]
    }
   ],
   "source": [
    "%time (w_gd, loss_gd) = least_squares_GD(y, tx_train, initial_w, 10000, 0.5)"
   ]
  },
  {
   "cell_type": "code",
   "execution_count": 164,
   "metadata": {},
   "outputs": [
    {
     "name": "stdout",
     "output_type": "stream",
     "text": [
      "[ 0.10574866  0.09236508  0.03878155 -0.0771191   0.02303186  0.10582769\n",
      "  0.04464807  0.06094469  0.12317494  0.04415956  0.01757313  0.10521949\n",
      "  0.00699009 -0.06091452  0.12234318  0.20546308 -0.33254534  0.08169881\n",
      " -0.05244991  0.19386155  0.2695795 ] \n",
      "\n",
      "loss:  0.48501168665196565\n"
     ]
    }
   ],
   "source": [
    "print(w_gd, \"\\n\\nloss: \", loss_gd)"
   ]
  },
  {
   "cell_type": "markdown",
   "metadata": {},
   "source": [
    "## least_squares"
   ]
  },
  {
   "cell_type": "code",
   "execution_count": 263,
   "metadata": {},
   "outputs": [
    {
     "name": "stdout",
     "output_type": "stream",
     "text": [
      "CPU times: user 177 ms, sys: 66.7 ms, total: 243 ms\n",
      "Wall time: 72.3 ms\n"
     ]
    }
   ],
   "source": [
    "%time (w_ls, loss_ls) = least_squares(y, tx_train)"
   ]
  },
  {
   "cell_type": "code",
   "execution_count": 264,
   "metadata": {},
   "outputs": [
    {
     "name": "stdout",
     "output_type": "stream",
     "text": [
      "[  1.60045409e-02  -4.57194014e-02  -2.65026392e-01  -1.44003090e-03\n",
      "  -1.36729786e-03  -1.11545323e-03   1.05392421e-04   1.80478717e-03\n",
      "  -2.32591470e-04  -8.82607480e-04   2.50842521e-03   3.08703941e-03\n",
      "   3.28001504e-01  -6.61817986e-02  -2.18931999e-02   1.91787915e-02\n",
      "  -4.21051267e-02   7.29656277e-02  -5.37747062e-02   3.05388700e-02\n",
      "   2.26800837e-01   7.27046612e-02   7.34225793e-02   2.78089204e-01\n",
      "   1.60531785e-01] \n",
      "\n",
      "loss:  0.4088868438346996\n"
     ]
    }
   ],
   "source": [
    "print(w_ls, \"\\n\\nloss: \", loss_ls)"
   ]
  },
  {
   "cell_type": "markdown",
   "metadata": {},
   "source": [
    "## polynomial_regression"
   ]
  },
  {
   "cell_type": "code",
   "execution_count": 186,
   "metadata": {},
   "outputs": [
    {
     "data": {
      "text/plain": [
       "(42,)"
      ]
     },
     "execution_count": 186,
     "metadata": {},
     "output_type": "execute_result"
    }
   ],
   "source": [
    "tx_train_poly.shape\n",
    "initial_w.shape"
   ]
  },
  {
   "cell_type": "code",
   "execution_count": 185,
   "metadata": {},
   "outputs": [
    {
     "data": {
      "text/plain": [
       "array([ 0.5150735 ,  0.78564416,  0.69320694,  0.95723246,  0.27271904,\n",
       "        0.22039559,  0.06263581,  0.770136  ,  0.1481901 ,  0.46454345,\n",
       "        0.04145503,  0.14054985,  0.0440912 ,  0.64101959,  0.43980429,\n",
       "        0.35140236,  0.25071974,  0.06248324,  0.00717547,  0.14856598,\n",
       "        0.6184201 ,  0.25228335,  0.69793237,  0.83583985,  0.10272617,\n",
       "        0.48626491,  0.97490694,  0.26793409,  0.8909672 ,  0.47688436,\n",
       "        0.10409208,  0.80195907,  0.53746707,  0.19428553,  0.69638683,\n",
       "        0.10441173,  0.09380573,  0.80300296,  0.56490464,  0.61873557,\n",
       "        0.85332171,  0.07427372])"
      ]
     },
     "execution_count": 185,
     "metadata": {},
     "output_type": "execute_result"
    }
   ],
   "source": [
    "degree = 1\n",
    "tx_train_poly = build_poly_tx(tx_train, degree)\n",
    "tx_test_poly = build_poly_tx(tx_test, degree)\n",
    "initial_w = init_w(tx_train_poly)\n",
    "initial_w"
   ]
  },
  {
   "cell_type": "code",
   "execution_count": 189,
   "metadata": {},
   "outputs": [
    {
     "name": "stdout",
     "output_type": "stream",
     "text": [
      "CPU times: user 15min 4s, sys: 1min 5s, total: 16min 10s\n",
      "Wall time: 3min 24s\n"
     ]
    }
   ],
   "source": [
    "%time (w_poly, loss_poly) = least_squares_GD(y, tx_train_poly, initial_w, 10000, 0.5)"
   ]
  },
  {
   "cell_type": "code",
   "execution_count": 188,
   "metadata": {},
   "outputs": [
    {
     "name": "stdout",
     "output_type": "stream",
     "text": [
      "[ 0.0900894  -0.03960436  0.26822284  0.03914141 -0.15226505  0.0162004\n",
      " -0.36234828  0.0322052  -0.27679399  0.01882001 -0.38352906  0.04037505\n",
      " -0.38089289  0.02002482  0.0148202  -0.04526306 -0.17426436  0.04511735\n",
      " -0.41780862  0.02120847  0.193436   -0.12685992  0.27294827  0.24750619\n",
      " -0.32225792  0.01953835  0.54992285  0.02534631  0.46598311  0.13019426\n",
      " -0.32089202  0.24144211  0.11248297 -0.18436212  0.27140273  0.04185665\n",
      " -0.33117836  0.0652517   0.13992055  0.12188187  0.42833762  0.12855381] \n",
      "\n",
      "loss:  0.41908336652603734\n"
     ]
    }
   ],
   "source": [
    "print(w_poly, \"\\n\\nloss: \", loss_poly)"
   ]
  },
  {
   "cell_type": "code",
   "execution_count": 127,
   "metadata": {
    "collapsed": true
   },
   "outputs": [],
   "source": [
    "def predict_labels(weights, data):\n",
    "    \"\"\"Generates class predictions given weights, and a test data matrix\"\"\"\n",
    "    y_pred = np.dot(data, weights)\n",
    "    y_pred[np.where(y_pred <= 0)] = -1\n",
    "    y_pred[np.where(y_pred > 0)] = 1\n",
    "    \n",
    "    return y_pred"
   ]
  },
  {
   "cell_type": "code",
   "execution_count": 265,
   "metadata": {},
   "outputs": [
    {
     "data": {
      "text/plain": [
       "array([-1., -1., -1., ...,  1.,  1., -1.])"
      ]
     },
     "execution_count": 265,
     "metadata": {},
     "output_type": "execute_result"
    }
   ],
   "source": [
    "y_pred = predict_labels(w_ls, tx_test)\n",
    "y_pred"
   ]
  },
  {
   "cell_type": "markdown",
   "metadata": {},
   "source": [
    "# Submission"
   ]
  },
  {
   "cell_type": "code",
   "execution_count": 106,
   "metadata": {
    "collapsed": true
   },
   "outputs": [],
   "source": [
    "def create_csv_submission(ids, y_pred, name):\n",
    "    \"\"\"\n",
    "    Creates an output file in csv format for submission to kaggle\n",
    "    Arguments: ids (event ids associated with each prediction)\n",
    "               y_pred (predicted class labels)\n",
    "               name (string name of .csv output file to be created)\n",
    "    \"\"\"\n",
    "    with open(name, 'w') as csvfile:\n",
    "        fieldnames = ['Id', 'Prediction']\n",
    "        writer = csv.DictWriter(csvfile, delimiter=\",\", fieldnames=fieldnames)\n",
    "        writer.writeheader()\n",
    "        for r1, r2 in zip(ids, y_pred):\n",
    "            writer.writerow({'Id':int(r1),'Prediction':int(r2)})"
   ]
  },
  {
   "cell_type": "code",
   "execution_count": 266,
   "metadata": {},
   "outputs": [],
   "source": [
    "create_csv_submission(sanitized_test_data_complete['Id'], y_pred, \"test5.csv\")"
   ]
  },
  {
   "cell_type": "markdown",
   "metadata": {},
   "source": [
    "Test n : algorithm / features / y / w\n",
    "- - - - - - - - - - - - - - - - - - - \n",
    "Test 1 : least_squares / all features standardized / y = -1,1 / random init_w\n",
    "\n",
    "Test 2 : least_squares / corr > 0.1 features standardized / y = -1,1 / random init_w\n",
    "\n",
    "Test 3 : least_squares_GD(10000,0.5) / all features standardized / y = -1,1 / random init_w\n",
    "\n",
    "Test 4 : least_squares_GD(10000,0.5) / all features standardized / y = -1,1 / random init_w / poly, degree=1\n",
    "\n",
    "Test 5 : least_squares / all features standardized / y = -1,1 / random init_w / median + categorical"
   ]
  },
  {
   "cell_type": "markdown",
   "metadata": {},
   "source": [
    "## Further work"
   ]
  },
  {
   "cell_type": "markdown",
   "metadata": {},
   "source": [
    "- balance output (batch numpy)\n",
    "- median and category\n",
    "- features engineering : features d'intéraction\n",
    "- logistic regression "
   ]
  }
 ],
 "metadata": {
  "kernelspec": {
   "display_name": "Python 3",
   "language": "python",
   "name": "python3"
  },
  "language_info": {
   "codemirror_mode": {
    "name": "ipython",
    "version": 3
   },
   "file_extension": ".py",
   "mimetype": "text/x-python",
   "name": "python",
   "nbconvert_exporter": "python",
   "pygments_lexer": "ipython3",
   "version": "3.5.3"
  }
 },
 "nbformat": 4,
 "nbformat_minor": 2
}
