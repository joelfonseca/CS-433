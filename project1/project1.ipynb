{
 "cells": [
  {
   "cell_type": "code",
   "execution_count": 1,
   "metadata": {},
   "outputs": [],
   "source": [
    "import numpy as np\n",
    "import random"
   ]
  },
  {
   "cell_type": "code",
   "execution_count": 2,
   "metadata": {},
   "outputs": [],
   "source": [
    "%load_ext autoreload"
   ]
  },
  {
   "cell_type": "code",
   "execution_count": 3,
   "metadata": {
    "collapsed": true
   },
   "outputs": [],
   "source": [
    "%autoreload 2"
   ]
  },
  {
   "cell_type": "markdown",
   "metadata": {},
   "source": [
    "# Import data"
   ]
  },
  {
   "cell_type": "code",
   "execution_count": 4,
   "metadata": {
    "collapsed": true
   },
   "outputs": [],
   "source": [
    "DATA_FOLDER = \"competition-data/\"\n",
    "DATA_TEST = \"test.csv\"\n",
    "DATA_TRAIN = \"train.csv\""
   ]
  },
  {
   "cell_type": "code",
   "execution_count": 39,
   "metadata": {},
   "outputs": [],
   "source": [
    "from proj1_helpers import load_csv_data\n",
    "y_train, x_train, ids_train = load_csv_data(DATA_FOLDER + DATA_TRAIN)\n",
    "#y_test, x_test, ids_test = load_csv_data(DATA_FOLDER + DATA_TEST)"
   ]
  },
  {
   "cell_type": "code",
   "execution_count": 6,
   "metadata": {},
   "outputs": [],
   "source": [
    "#y_train = rename_y(1, 0, y_train)"
   ]
  },
  {
   "cell_type": "code",
   "execution_count": 40,
   "metadata": {},
   "outputs": [
    {
     "data": {
      "text/plain": [
       "array([[ 138.47 ,   51.655,   97.827, ...,    1.24 ,   -2.475,  113.497],\n",
       "       [ 160.937,   68.768,  103.235, ...,      nan,      nan,   46.226],\n",
       "       [     nan,  162.172,  125.953, ...,      nan,      nan,   44.251],\n",
       "       ..., \n",
       "       [ 105.457,   60.526,   75.839, ...,      nan,      nan,   41.992],\n",
       "       [  94.951,   19.362,   68.812, ...,      nan,      nan,    0.   ],\n",
       "       [     nan,   72.756,   70.831, ...,      nan,      nan,    0.   ]])"
      ]
     },
     "execution_count": 40,
     "metadata": {},
     "output_type": "execute_result"
    }
   ],
   "source": [
    "x_train"
   ]
  },
  {
   "cell_type": "code",
   "execution_count": 41,
   "metadata": {
    "collapsed": true
   },
   "outputs": [],
   "source": [
    "tx_train = x_train.T"
   ]
  },
  {
   "cell_type": "markdown",
   "metadata": {},
   "source": [
    "# Cleaning data"
   ]
  },
  {
   "cell_type": "code",
   "execution_count": 252,
   "metadata": {},
   "outputs": [
    {
     "data": {
      "text/plain": [
       "\"# constants\\nCATEGORICAL_FIELDS = ['PRI_jet_num']\\n\\nfor c in CATEGORICAL_FIELDS:\\n    median_rep_data_train[c] = categorical_rep_data(train_data[c])\\n    median_rep_data_test[c] = categorical_rep_data(test_data[c])\""
      ]
     },
     "execution_count": 252,
     "metadata": {},
     "output_type": "execute_result"
    }
   ],
   "source": [
    "\"\"\"# constants\n",
    "CATEGORICAL_FIELDS = ['PRI_jet_num']\n",
    "\n",
    "for c in CATEGORICAL_FIELDS:\n",
    "    median_rep_data_train[c] = categorical_rep_data(train_data[c])\n",
    "    median_rep_data_test[c] = categorical_rep_data(test_data[c])\"\"\""
   ]
  },
  {
   "cell_type": "code",
   "execution_count": 42,
   "metadata": {},
   "outputs": [
    {
     "data": {
      "text/plain": [
       "(30, 250000)"
      ]
     },
     "execution_count": 42,
     "metadata": {},
     "output_type": "execute_result"
    }
   ],
   "source": [
    "from implementations import *\n",
    "tx_train = delete_features(tx_train, 0.9)\n",
    "tx_train.shape"
   ]
  },
  {
   "cell_type": "code",
   "execution_count": 43,
   "metadata": {},
   "outputs": [],
   "source": [
    "from implementations import *\n",
    "tx_train = replace_nan_by_median(tx_train)"
   ]
  },
  {
   "cell_type": "code",
   "execution_count": 196,
   "metadata": {},
   "outputs": [],
   "source": [
    "tx_train = min_max(tx_train)"
   ]
  },
  {
   "cell_type": "code",
   "execution_count": 44,
   "metadata": {},
   "outputs": [],
   "source": [
    "tx_train = standardize(tx_train)"
   ]
  },
  {
   "cell_type": "code",
   "execution_count": 13,
   "metadata": {},
   "outputs": [],
   "source": [
    "tx_train, y_train = balance(tx_train, y_train)"
   ]
  },
  {
   "cell_type": "markdown",
   "metadata": {},
   "source": [
    "# Logistic Regression"
   ]
  },
  {
   "cell_type": "code",
   "execution_count": 45,
   "metadata": {},
   "outputs": [
    {
     "data": {
      "text/plain": [
       "(250000, 1)"
      ]
     },
     "execution_count": 45,
     "metadata": {},
     "output_type": "execute_result"
    }
   ],
   "source": [
    "tx_train.shape\n",
    "y_train.shape"
   ]
  },
  {
   "cell_type": "code",
   "execution_count": 269,
   "metadata": {},
   "outputs": [
    {
     "name": "stdout",
     "output_type": "stream",
     "text": [
      "(30, 1)\n",
      "accuracy:  0.500852136762\n"
     ]
    },
    {
     "name": "stderr",
     "output_type": "stream",
     "text": [
      "/Users/Joel/Drive/EPFL/MA1/github/CS-433/project1/implementations.py:124: RuntimeWarning: overflow encountered in exp\n",
      "  exp_ = np.exp(tx.dot(w))\n",
      "/Users/Joel/Drive/EPFL/MA1/github/CS-433/project1/implementations.py:117: RuntimeWarning: overflow encountered in exp\n",
      "  return 1/(1+np.exp(-t))\n"
     ]
    },
    {
     "name": "stdout",
     "output_type": "stream",
     "text": [
      "accuracy:  0.499737355108\n",
      "accuracy:  0.499643970257\n",
      "accuracy:  0.499620624044\n",
      "accuracy:  0.499708172342\n",
      "accuracy:  0.499568095066\n",
      "accuracy:  0.499719845448\n",
      "accuracy:  0.499585604725\n",
      "accuracy:  0.499749028214\n",
      "accuracy:  0.499603114385\n"
     ]
    }
   ],
   "source": [
    "from implementations import *\n",
    "\n",
    "gamma = 1\n",
    "lambda_ = 0\n",
    "max_iters = 1000\n",
    "initial_w = init_w(tx_train)\n",
    "\n",
    "print(initial_w.shape)\n",
    "\n",
    "w, loss = logistic_regression(y_train, tx_train.T, initial_w, max_iters, gamma, lambda_)"
   ]
  },
  {
   "cell_type": "markdown",
   "metadata": {},
   "source": [
    "# Cross Validation"
   ]
  },
  {
   "cell_type": "code",
   "execution_count": 61,
   "metadata": {},
   "outputs": [
    {
     "data": {
      "application/vnd.jupyter.widget-view+json": {
       "model_id": "07a15f8f2df745a7832df63a69edfc1b"
      }
     },
     "metadata": {},
     "output_type": "display_data"
    },
    {
     "name": "stderr",
     "output_type": "stream",
     "text": [
      "/Users/Joel/Drive/EPFL/MA1/github/CS-433/project1/implementations.py:124: RuntimeWarning: overflow encountered in exp\n",
      "  exp_ = np.exp(tx.dot(w))\n",
      "/Users/Joel/Drive/EPFL/MA1/github/CS-433/project1/implementations.py:117: RuntimeWarning: overflow encountered in exp\n",
      "  return 1/(1+np.exp(-t))\n"
     ]
    },
    {
     "name": "stdout",
     "output_type": "stream",
     "text": [
      "\n",
      "0.719696\n"
     ]
    },
    {
     "data": {
      "image/png": "[encoded data removed]",
      "text/plain": [
       "<matplotlib.figure.Figure at 0x115907a90>"
      ]
     },
     "metadata": {},
     "output_type": "display_data"
    }
   ],
   "source": [
    "from implementations import build_k_indices\n",
    "from tqdm import tqdm_notebook\n",
    "from matplotlib.pyplot import figure, show\n",
    "from matplotlib.ticker import MaxNLocator\n",
    "import matplotlib.patches as mpatches\n",
    "\n",
    "def cross_validation_demo():\n",
    "    seed = 1\n",
    "    k_fold = 4\n",
    "    #lambdas = np.logspace(-3, 1, 10)\n",
    "    initial_w = init_w(tx_train)\n",
    "    max_iters = 100\n",
    "    gamma = 0.7\n",
    "    k_indices = build_k_indices(y_train, k_fold, seed)\n",
    "    results = []\n",
    "    #for lambda_ in tqdm_notebook(lambdas):\n",
    "    lambda_=0\n",
    "    accs = []\n",
    "    for k in tqdm_notebook(range(k_fold)):\n",
    "        w_tr, acc = cross_validation(y_train, tx_train.T, initial_w, max_iters,  k_indices, k, gamma, lambda_)\n",
    "        accs.append(acc)\n",
    "    acc_mean = np.mean(accs)\n",
    "    results.append(acc_mean)\n",
    "    print(acc_mean)\n",
    "    plt.plot(range(1,k_fold+1), accs, marker=\".\", color='b', label='accuracy')\n",
    "    plt.axhline(y=acc_mean, color='r', label='mean')\n",
    "    ax = plt.gca()\n",
    "    ax.xaxis.set_major_locator(MaxNLocator(integer=True))\n",
    "    plt.xlabel(\"k-fold\")\n",
    "    plt.ylabel(\"accuracy\")\n",
    "    plt.title(\"k-fold accuracy\")\n",
    "    plt.legend(loc=2)\n",
    "    plt.grid(True)\n",
    "    plt.show()\n",
    "\n",
    "cross_validation_demo()"
   ]
  },
  {
   "cell_type": "markdown",
   "metadata": {},
   "source": [
    "# Predict labels"
   ]
  },
  {
   "cell_type": "code",
   "execution_count": 199,
   "metadata": {},
   "outputs": [],
   "source": [
    "from implementations import predict_labels"
   ]
  },
  {
   "cell_type": "code",
   "execution_count": 137,
   "metadata": {},
   "outputs": [
    {
     "data": {
      "text/plain": [
       "array([-1., -1., -1., ..., -1., -1., -1.])"
      ]
     },
     "execution_count": 137,
     "metadata": {},
     "output_type": "execute_result"
    }
   ],
   "source": [
    "y_pred = predict_labels(w, tx_test)"
   ]
  },
  {
   "cell_type": "markdown",
   "metadata": {},
   "source": [
    "# Submission"
   ]
  },
  {
   "cell_type": "code",
   "execution_count": 198,
   "metadata": {},
   "outputs": [],
   "source": [
    "from implementations import create_csv_submission"
   ]
  },
  {
   "cell_type": "code",
   "execution_count": 258,
   "metadata": {
    "collapsed": true
   },
   "outputs": [],
   "source": [
    "create_csv_submission(test_data_id, y_pred, \"test6.csv\")"
   ]
  },
  {
   "cell_type": "markdown",
   "metadata": {},
   "source": [
    "Test n : algorithm / features / y / w\n",
    "- - - - - - - - - - - - - - - - - - - \n",
    "Test 1 : least_squares / all features standardized / y = -1,1 / random init_w\n",
    "\n",
    "Test 2 : least_squares / corr > 0.1 features standardized / y = -1,1 / random init_w\n",
    "\n",
    "Test 3 : least_squares_GD(10000,0.5) / all features standardized / y = -1,1 / random init_w\n",
    "\n",
    "Test 4 : least_squares_GD(10000,0.5) / all features standardized / y = -1,1 / random init_w / poly, degree=1\n",
    "\n",
    "Test 5 : least_squares / all features standardized / y = -1,1 / random init_w / median + categorical\n",
    "\n",
    "Test 6 : logistic_regressoin  /all features standardized / y = 0,1 / random init_w / median + categorical + balanced"
   ]
  },
  {
   "cell_type": "markdown",
   "metadata": {},
   "source": [
    "## Further work"
   ]
  },
  {
   "cell_type": "markdown",
   "metadata": {},
   "source": [
    "- balance output (batch numpy)\n",
    "- median and category\n",
    "- features engineering : features d'intéraction\n",
    "- logistic regression "
   ]
  }
 ],
 "metadata": {
  "kernelspec": {
   "display_name": "Python 3",
   "language": "python",
   "name": "python3"
  },
  "language_info": {
   "codemirror_mode": {
    "name": "ipython",
    "version": 3
   },
   "file_extension": ".py",
   "mimetype": "text/x-python",
   "name": "python",
   "nbconvert_exporter": "python",
   "pygments_lexer": "ipython3",
   "version": "3.5.3"
  }
 },
 "nbformat": 4,
 "nbformat_minor": 2
}
