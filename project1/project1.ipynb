{
 "cells": [
  {
   "cell_type": "code",
   "execution_count": 80,
   "metadata": {},
   "outputs": [
    {
     "name": "stdout",
     "output_type": "stream",
     "text": [
      "The autoreload extension is already loaded. To reload it, use:\n",
      "  %reload_ext autoreload\n"
     ]
    }
   ],
   "source": [
    "import numpy as np\n",
    "import random\n",
    "from implementations import *\n",
    "\n",
    "%load_ext autoreload\n",
    "%autoreload 2"
   ]
  },
  {
   "cell_type": "code",
   "execution_count": 81,
   "metadata": {},
   "outputs": [],
   "source": [
    "LOWER_BOUND = -1\n",
    "UPPER_BOUND = 1"
   ]
  },
  {
   "cell_type": "markdown",
   "metadata": {},
   "source": [
    "# Import data"
   ]
  },
  {
   "cell_type": "code",
   "execution_count": 82,
   "metadata": {},
   "outputs": [],
   "source": [
    "DATA_FOLDER = \"competition-data/\"\n",
    "DATA_TEST = \"test.csv\"\n",
    "DATA_TRAIN = \"train.csv\""
   ]
  },
  {
   "cell_type": "code",
   "execution_count": 83,
   "metadata": {},
   "outputs": [],
   "source": [
    "from proj1_helpers import load_csv_data\n",
    "y_train, x_train, ids_train = load_csv_data(DATA_FOLDER + DATA_TRAIN, LOWER_BOUND, UPPER_BOUND)\n",
    "y_test, x_test, ids_test = load_csv_data(DATA_FOLDER + DATA_TEST, LOWER_BOUND, UPPER_BOUND)"
   ]
  },
  {
   "cell_type": "code",
   "execution_count": 84,
   "metadata": {},
   "outputs": [
    {
     "data": {
      "text/plain": [
       "array([[ 138.47 ,   51.655,   97.827, ...,    1.24 ,   -2.475,  113.497],\n",
       "       [ 160.937,   68.768,  103.235, ...,      nan,      nan,   46.226],\n",
       "       [     nan,  162.172,  125.953, ...,      nan,      nan,   44.251],\n",
       "       ..., \n",
       "       [ 105.457,   60.526,   75.839, ...,      nan,      nan,   41.992],\n",
       "       [  94.951,   19.362,   68.812, ...,      nan,      nan,    0.   ],\n",
       "       [     nan,   72.756,   70.831, ...,      nan,      nan,    0.   ]])"
      ]
     },
     "execution_count": 84,
     "metadata": {},
     "output_type": "execute_result"
    }
   ],
   "source": [
    "x_train"
   ]
  },
  {
   "cell_type": "code",
   "execution_count": 85,
   "metadata": {},
   "outputs": [],
   "source": [
    "tx_train = x_train.T\n",
    "tx_test = x_test.T"
   ]
  },
  {
   "cell_type": "markdown",
   "metadata": {},
   "source": [
    "# Cleaning data"
   ]
  },
  {
   "cell_type": "code",
   "execution_count": 86,
   "metadata": {},
   "outputs": [
    {
     "data": {
      "text/plain": [
       "\"# constants\\nCATEGORICAL_FIELDS = ['PRI_jet_num']\\n\\nfor c in CATEGORICAL_FIELDS:\\n    median_rep_data_train[c] = categorical_rep_data(train_data[c])\\n    median_rep_data_test[c] = categorical_rep_data(test_data[c])\""
      ]
     },
     "execution_count": 86,
     "metadata": {},
     "output_type": "execute_result"
    }
   ],
   "source": [
    "\"\"\"# constants\n",
    "CATEGORICAL_FIELDS = ['PRI_jet_num']\n",
    "\n",
    "for c in CATEGORICAL_FIELDS:\n",
    "    median_rep_data_train[c] = categorical_rep_data(train_data[c])\n",
    "    median_rep_data_test[c] = categorical_rep_data(test_data[c])\"\"\""
   ]
  },
  {
   "cell_type": "code",
   "execution_count": 67,
   "metadata": {},
   "outputs": [
    {
     "data": {
      "text/plain": [
       "(30, 250000)"
      ]
     },
     "execution_count": 67,
     "metadata": {},
     "output_type": "execute_result"
    }
   ],
   "source": [
    "tx_train = delete_features(tx_train, 0.9)\n",
    "tx_train.shape"
   ]
  },
  {
   "cell_type": "code",
   "execution_count": 87,
   "metadata": {},
   "outputs": [],
   "source": [
    "tx_train, y_train = balance(tx_train.T, y_train, LOWER_BOUND, UPPER_BOUND)"
   ]
  },
  {
   "cell_type": "code",
   "execution_count": 88,
   "metadata": {},
   "outputs": [],
   "source": [
    "tx_train = replace_nan_by_median(tx_train)\n",
    "tx_test = replace_nan_by_median(tx_test)"
   ]
  },
  {
   "cell_type": "code",
   "execution_count": 69,
   "metadata": {},
   "outputs": [],
   "source": [
    "#tx_train = min_max(tx_train)"
   ]
  },
  {
   "cell_type": "code",
   "execution_count": 89,
   "metadata": {},
   "outputs": [],
   "source": [
    "mean_train, std_train, tx_train = standardize(tx_train)\n",
    "tx_test = standardize_predef(tx_test, mean_train, std_train)"
   ]
  },
  {
   "cell_type": "markdown",
   "metadata": {},
   "source": [
    "# Logistic Regression"
   ]
  },
  {
   "cell_type": "code",
   "execution_count": 90,
   "metadata": {},
   "outputs": [
    {
     "data": {
      "text/plain": [
       "(30, 171334)"
      ]
     },
     "execution_count": 90,
     "metadata": {},
     "output_type": "execute_result"
    }
   ],
   "source": [
    "tx_train\n",
    "tx_train.shape"
   ]
  },
  {
   "cell_type": "markdown",
   "metadata": {},
   "source": [
    "# Cross Validation"
   ]
  },
  {
   "cell_type": "code",
   "execution_count": 91,
   "metadata": {},
   "outputs": [
    {
     "name": "stdout",
     "output_type": "stream",
     "text": [
      "Finished: (9, 0, 0.0001, 0.800169263993463)\n",
      "Finished: (9, 0, 0.00012742749857031334, 0.80015759061460334)\n",
      "Finished: (9, 0, 0.0001623776739188721, 0.80010506040973561)\n",
      "Finished: (9, 0, 0.00020691380811147902, 0.79997081655285129)\n",
      "Finished: (9, 0, 0.00026366508987303583, 0.79987742952197516)\n",
      "Finished: (9, 0, 0.00033598182862837811, 0.79989493959026436)\n",
      "Finished: (9, 0, 0.00042813323987193956, 0.79977820580166914)\n",
      "Finished: (9, 0, 0.00054555947811685203, 0.79966730870250402)\n",
      "Finished: (9, 0, 0.00069519279617756048, 0.79966730870250391)\n",
      "Finished: (9, 0, 0.00088586679041008235, 0.79949220801961129)\n",
      "Finished: (9, 0, 0.0011288378916846883, 0.79921788361641277)\n",
      "Finished: (9, 0, 0.0014384498882876629, 0.79875678515146198)\n",
      "Finished: (9, 0, 0.0018329807108324356, 0.79769450767524663)\n",
      "Finished: (9, 0, 0.0023357214690901212, 0.79472363275550106)\n",
      "Finished: (9, 0, 0.0029763514416313191, 0.77449950388139865)\n",
      "Finished: (9, 0, 0.0037926901907322499, 0.79923539368470209)\n",
      "Finished: (9, 0, 0.0048329302385717518, 0.79886184556119777)\n",
      "Finished: (9, 0, 0.0061584821106602603, 0.79844744061168504)\n",
      "Finished: (9, 0, 0.0078475997035146062, 0.79761863071265993)\n",
      "Finished: (9, 0, 0.01, 0.79779956808498231)\n",
      "Finished: (10, 0, 0.0001, 0.80157590614603402)\n",
      "Finished: (10, 0, 0.00012742749857031334, 0.80157590614603402)\n",
      "Finished: (10, 0, 0.0001623776739188721, 0.8015408860094555)\n",
      "Finished: (10, 0, 0.00020691380811147902, 0.80155839607774459)\n",
      "Finished: (10, 0, 0.00026366508987303583, 0.80142998891029005)\n",
      "Finished: (10, 0, 0.00033598182862837811, 0.80142415222086039)\n",
      "Finished: (10, 0, 0.00042813323987193956, 0.80138913208428186)\n",
      "Finished: (10, 0, 0.00054555947811685203, 0.80126656160625687)\n",
      "Finished: (10, 0, 0.00069519279617756048, 0.80092803361933118)\n",
      "Finished: (10, 0, 0.00088586679041008235, 0.80061285239012425)\n",
      "Finished: (10, 0, 0.0011288378916846883, 0.79948637133018141)\n",
      "Finished: (10, 0, 0.0014384498882876629, 0.79216716278526822)\n",
      "Finished: (10, 0, 0.0018329807108324356, 0.79730928617288277)\n",
      "Finished: (10, 0, 0.0023357214690901212, 0.80075293293643846)\n",
      "Finished: (10, 0, 0.0029763514416313191, 0.801237378159108)\n",
      "Finished: (10, 0, 0.0037926901907322499, 0.80095138037705027)\n",
      "Finished: (10, 0, 0.0048329302385717518, 0.80080546314130641)\n",
      "Finished: (10, 0, 0.0061584821106602603, 0.80012257047802482)\n",
      "Finished: (10, 0, 0.0078475997035146062, 0.7957917469211464)\n",
      "Finished: (10, 0, 0.01, 0.79743185665090766)\n",
      "Finished: (11, 0, 0.0001, 0.79802136228331289)\n",
      "Finished: (11, 0, 0.00012742749857031334, 0.79697659487538675)\n",
      "Finished: (11, 0, 0.0001623776739188721, 0.79506216074242697)\n",
      "Finished: (11, 0, 0.00020691380811147902, 0.79054456312379617)\n",
      "Finished: (11, 0, 0.00026366508987303583, 0.77921554894064082)\n",
      "Finished: (11, 0, 0.00033598182862837811, 0.78447440611685049)\n",
      "Finished: (11, 0, 0.00042813323987193956, 0.79559913616996447)\n",
      "Finished: (11, 0, 0.00054555947811685203, 0.79970232883908254)\n",
      "Finished: (11, 0, 0.00069519279617756048, 0.80103893071849652)\n",
      "Finished: (11, 0, 0.00088586679041008235, 0.80157006945660425)\n",
      "Finished: (11, 0, 0.0011288378916846883, 0.80199031109554664)\n",
      "Finished: (11, 0, 0.0014384498882876629, 0.80207202474756323)\n",
      "Finished: (11, 0, 0.0018329807108324356, 0.80200782116383584)\n",
      "Finished: (11, 0, 0.0023357214690901212, 0.80204867798984425)\n",
      "Finished: (11, 0, 0.0029763514416313191, 0.80202533123212516)\n",
      "Finished: (11, 0, 0.0037926901907322499, 0.80190859744352994)\n",
      "Finished: (11, 0, 0.0048329302385717518, 0.80102725733963687)\n",
      "Finished: (11, 0, 0.0061584821106602603, 0.79439094145800504)\n",
      "Finished: (11, 0, 0.0078475997035146062, 0.80028016109262834)\n",
      "Finished: (11, 0, 0.01, 0.797064145216833)\n"
     ]
    }
   ],
   "source": [
    "from implementations import build_k_indices\n",
    "#from tqdm import tqdm_notebook\n",
    "from matplotlib.pyplot import figure, show\n",
    "from matplotlib.ticker import MaxNLocator\n",
    "import matplotlib.patches as mpatches\n",
    "\n",
    "def cross_validation_demo():\n",
    "    model = \"ridge_regression\"\n",
    "    seed = 3\n",
    "    k_fold = 10\n",
    "    degrees = np.arange(9, 12, 1)\n",
    "    lambdas = np.logspace(-4, -2, 20)\n",
    "    gammas = [0]#np.arange(0.0, 1.0, 0.05)\n",
    "    #initial_w = init_w(tx_train)\n",
    "    max_iters = 200\n",
    "    k_indices = build_k_indices(y_train, k_fold, seed)\n",
    "    results = []\n",
    "    for degree in degrees:\n",
    "        tx_train_poly = build_poly_tx(tx_train, degree)\n",
    "        initial_w = init_w(tx_train_poly)\n",
    "        for gamma in gammas:\n",
    "            for lambda_ in lambdas:\n",
    "                accs = []\n",
    "                ws = []\n",
    "                for k in range(k_fold):\n",
    "                    w_tr, acc = cross_validation(y_train, tx_train_poly.T, initial_w,\n",
    "                                                 max_iters,  k_indices, k, gamma, lambda_, LOWER_BOUND, UPPER_BOUND, model)\n",
    "                    ws.append(w_tr)\n",
    "                    accs.append(acc)\n",
    "                w_mean = np.mean(ws, axis=0)\n",
    "                acc_mean = np.mean(accs)\n",
    "                results.append((degree, gamma, lambda_, acc_mean, w_mean))\n",
    "                \n",
    "                print(\"Finished: \" + str((degree, gamma, lambda_, acc_mean)))\n",
    "\n",
    "                '''\n",
    "                fig = plt.subplots(1, 1, figsize=(10,5))\n",
    "                plt.plot(range(1,k_fold+1), accs, marker=\".\", color='b', label='accuracy')\n",
    "                plt.axhline(y=acc_mean, color='r', label='mean')\n",
    "                ax = plt.gca()\n",
    "                ax.xaxis.set_major_locator(MaxNLocator(integer=True))\n",
    "                plt.xlabel(\"k\")\n",
    "                plt.ylabel(\"accuracy\")\n",
    "                plt.title(\"k-fold accuracy for lambda=%.5f, gamma=%.2f, degree=%d\" % (lambda_, gamma, degree))\n",
    "                plt.legend(loc=2)\n",
    "                plt.grid(True)\n",
    "                plt.show()\n",
    "                '''\n",
    "    \n",
    "    return results\n",
    "\n",
    "results = cross_validation_demo()"
   ]
  },
  {
   "cell_type": "code",
   "execution_count": 95,
   "metadata": {},
   "outputs": [
    {
     "data": {
      "text/plain": [
       "[11, 11, 11, 11]"
      ]
     },
     "execution_count": 95,
     "metadata": {},
     "output_type": "execute_result"
    }
   ],
   "source": [
    "results.sort(key=lambda x: -x[3])\n",
    "[x[0] for x in results[:4]]"
   ]
  },
  {
   "cell_type": "code",
   "execution_count": 96,
   "metadata": {},
   "outputs": [
    {
     "data": {
      "text/plain": [
       "(331, 568238)"
      ]
     },
     "execution_count": 96,
     "metadata": {},
     "output_type": "execute_result"
    }
   ],
   "source": [
    "results.sort(key=lambda x: -x[3])\n",
    "best_ws = [x[4] for x in results[:4]]\n",
    "mean_w = np.mean(best_ws, axis=0)\n",
    "\n",
    "tx_test_poly = build_poly_tx(tx_test, 11)\n",
    "tx_test_poly.shape"
   ]
  },
  {
   "cell_type": "markdown",
   "metadata": {},
   "source": [
    "# Predict labels"
   ]
  },
  {
   "cell_type": "code",
   "execution_count": 97,
   "metadata": {},
   "outputs": [],
   "source": [
    "from proj1_helpers import predict_labels_kaggle"
   ]
  },
  {
   "cell_type": "code",
   "execution_count": 98,
   "metadata": {},
   "outputs": [],
   "source": [
    "y_pred = predict_labels_kaggle(mean_w, tx_test_poly.T, LOWER_BOUND, UPPER_BOUND)"
   ]
  },
  {
   "cell_type": "markdown",
   "metadata": {},
   "source": [
    "# Submission"
   ]
  },
  {
   "cell_type": "code",
   "execution_count": 99,
   "metadata": {},
   "outputs": [],
   "source": [
    "from proj1_helpers import create_csv_submission"
   ]
  },
  {
   "cell_type": "code",
   "execution_count": 100,
   "metadata": {},
   "outputs": [],
   "source": [
    "create_csv_submission(ids_test, y_pred, \"test14.csv\")"
   ]
  },
  {
   "cell_type": "markdown",
   "metadata": {},
   "source": [
    "Test n : algorithm / features / y / w\n",
    "- - - - - - - - - - - - - - - - - - - \n",
    "Test 1 : least_squares / all features standardized / y = -1,1 / random init_w\n",
    "\n",
    "Test 2 : least_squares / corr > 0.1 features standardized / y = -1,1 / random init_w\n",
    "\n",
    "Test 3 : least_squares_GD(10000,0.5) / all features standardized / y = -1,1 / random init_w\n",
    "\n",
    "Test 4 : least_squares_GD(10000,0.5) / all features standardized / y = -1,1 / random init_w / poly, degree=1\n",
    "\n",
    "Test 5 : least_squares / all features standardized / y = -1,1 / random init_w / median + categorical\n",
    "\n",
    "Test 6 : logistic_regressoin  /all features standardized / y = 0,1 / random init_w / median + categorical + balanced\n",
    "\n",
    "Test 7 : least_squares / all features standardized / y = 0,1 / random init_w\n",
    "\n",
    "Test 8 : Test 1\n",
    "\n",
    "Test 9 : Test 1\n",
    "\n",
    "Test 10 : Test 1 / standardized test_set with mean and std from train_set\n",
    "\n",
    "Test 11 : Test 1 / standardized test_set with mean and std from train_set / balance\n",
    "\n",
    "Test 12 : Ridge regression / non-balanced / standardized test_set with mean and std from train_set / y=-1,1 / mean of 4 best lambdas for degree 11\n",
    "\n",
    "Test 13 : Ridge regression / balanced / standardized test_set with mean and std from train_set / y=-1,1 / mean of 4 best lambdas for degree 11\n",
    "\n",
    "Test 13 : Ridge regression / balanced before doing anything / standardized test_set with mean and std from train_set / y=-1,1 / mean of 4 best lambdas for degree 11"
   ]
  },
  {
   "cell_type": "markdown",
   "metadata": {},
   "source": [
    "## Further work"
   ]
  },
  {
   "cell_type": "markdown",
   "metadata": {},
   "source": [
    "- balance output (batch numpy)\n",
    "- median and category\n",
    "- features engineering : features d'intéraction\n",
    "- logistic regression "
   ]
  }
 ],
 "metadata": {
  "kernelspec": {
   "display_name": "Python [default]",
   "language": "python",
   "name": "python3"
  },
  "language_info": {
   "codemirror_mode": {
    "name": "ipython",
    "version": 3
   },
   "file_extension": ".py",
   "mimetype": "text/x-python",
   "name": "python",
   "nbconvert_exporter": "python",
   "pygments_lexer": "ipython3",
   "version": "3.6.1"
  }
 },
 "nbformat": 4,
 "nbformat_minor": 2
}
