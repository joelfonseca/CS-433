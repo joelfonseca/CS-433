{
 "cells": [
  {
   "cell_type": "code",
   "execution_count": 19,
   "metadata": {},
   "outputs": [
    {
     "name": "stdout",
     "output_type": "stream",
     "text": [
      "The autoreload extension is already loaded. To reload it, use:\n",
      "  %reload_ext autoreload\n"
     ]
    }
   ],
   "source": [
    "import numpy as np\n",
    "import random\n",
    "\n",
    "%load_ext autoreload\n",
    "%autoreload 2"
   ]
  },
  {
   "cell_type": "code",
   "execution_count": 20,
   "metadata": {
    "collapsed": true
   },
   "outputs": [],
   "source": [
    "LOWER_BOUND = -1\n",
    "UPPER_BOUND = 1"
   ]
  },
  {
   "cell_type": "markdown",
   "metadata": {},
   "source": [
    "# Import data"
   ]
  },
  {
   "cell_type": "code",
   "execution_count": 21,
   "metadata": {
    "collapsed": true
   },
   "outputs": [],
   "source": [
    "DATA_FOLDER = \"competition-data/\"\n",
    "DATA_TEST = \"test.csv\"\n",
    "DATA_TRAIN = \"train.csv\""
   ]
  },
  {
   "cell_type": "code",
   "execution_count": 22,
   "metadata": {
    "collapsed": true
   },
   "outputs": [],
   "source": [
    "from proj1_helpers import load_csv_data\n",
    "y_train, x_train, ids_train = load_csv_data(DATA_FOLDER + DATA_TRAIN, LOWER_BOUND, UPPER_BOUND)\n",
    "y_test, x_test, ids_test = load_csv_data(DATA_FOLDER + DATA_TEST, LOWER_BOUND, UPPER_BOUND)"
   ]
  },
  {
   "cell_type": "code",
   "execution_count": 23,
   "metadata": {},
   "outputs": [
    {
     "data": {
      "text/plain": [
       "array([[ 138.47 ,   51.655,   97.827, ...,    1.24 ,   -2.475,  113.497],\n",
       "       [ 160.937,   68.768,  103.235, ...,      nan,      nan,   46.226],\n",
       "       [     nan,  162.172,  125.953, ...,      nan,      nan,   44.251],\n",
       "       ..., \n",
       "       [ 105.457,   60.526,   75.839, ...,      nan,      nan,   41.992],\n",
       "       [  94.951,   19.362,   68.812, ...,      nan,      nan,    0.   ],\n",
       "       [     nan,   72.756,   70.831, ...,      nan,      nan,    0.   ]])"
      ]
     },
     "execution_count": 23,
     "metadata": {},
     "output_type": "execute_result"
    }
   ],
   "source": [
    "x_train"
   ]
  },
  {
   "cell_type": "code",
   "execution_count": 24,
   "metadata": {
    "collapsed": true
   },
   "outputs": [],
   "source": [
    "tx_train = x_train.T\n",
    "tx_test = x_test.T"
   ]
  },
  {
   "cell_type": "markdown",
   "metadata": {},
   "source": [
    "# Cleaning data"
   ]
  },
  {
   "cell_type": "code",
   "execution_count": 25,
   "metadata": {},
   "outputs": [
    {
     "data": {
      "text/plain": [
       "\"# constants\\nCATEGORICAL_FIELDS = ['PRI_jet_num']\\n\\nfor c in CATEGORICAL_FIELDS:\\n    median_rep_data_train[c] = categorical_rep_data(train_data[c])\\n    median_rep_data_test[c] = categorical_rep_data(test_data[c])\""
      ]
     },
     "execution_count": 25,
     "metadata": {},
     "output_type": "execute_result"
    }
   ],
   "source": [
    "\"\"\"# constants\n",
    "CATEGORICAL_FIELDS = ['PRI_jet_num']\n",
    "\n",
    "for c in CATEGORICAL_FIELDS:\n",
    "    median_rep_data_train[c] = categorical_rep_data(train_data[c])\n",
    "    median_rep_data_test[c] = categorical_rep_data(test_data[c])\"\"\""
   ]
  },
  {
   "cell_type": "code",
   "execution_count": 26,
   "metadata": {},
   "outputs": [
    {
     "data": {
      "text/plain": [
       "(30, 250000)"
      ]
     },
     "execution_count": 26,
     "metadata": {},
     "output_type": "execute_result"
    }
   ],
   "source": [
    "from implementations import *\n",
    "tx_train = delete_features(tx_train, 0.9)\n",
    "tx_train.shape"
   ]
  },
  {
   "cell_type": "code",
   "execution_count": 27,
   "metadata": {
    "collapsed": true
   },
   "outputs": [],
   "source": [
    "tx_train = replace_nan_by_median(tx_train)\n",
    "tx_test = replace_nan_by_median(tx_test)"
   ]
  },
  {
   "cell_type": "code",
   "execution_count": 28,
   "metadata": {
    "collapsed": true
   },
   "outputs": [],
   "source": [
    "#tx_train = min_max(tx_train)"
   ]
  },
  {
   "cell_type": "code",
   "execution_count": 29,
   "metadata": {},
   "outputs": [],
   "source": [
    "mean_train, std_train, tx_train = standardize(tx_train)\n",
    "_ , _ , tx_test = standardize(tx_test)"
   ]
  },
  {
   "cell_type": "code",
   "execution_count": 11,
   "metadata": {
    "collapsed": true
   },
   "outputs": [],
   "source": [
    "tx_train, y_train = balance(tx_train.T, y_train, LOWER_BOUND, UPPER_BOUND)"
   ]
  },
  {
   "cell_type": "markdown",
   "metadata": {},
   "source": [
    "# Logistic Regression"
   ]
  },
  {
   "cell_type": "code",
   "execution_count": 12,
   "metadata": {},
   "outputs": [
    {
     "data": {
      "text/plain": [
       "(30, 171334)"
      ]
     },
     "execution_count": 12,
     "metadata": {},
     "output_type": "execute_result"
    }
   ],
   "source": [
    "tx_train.shape\n",
    "#y_train.shape"
   ]
  },
  {
   "cell_type": "code",
   "execution_count": 133,
   "metadata": {},
   "outputs": [
    {
     "data": {
      "text/plain": [
       "array([[  1.22272262e-02],\n",
       "       [ -2.53066585e-01],\n",
       "       [ -2.63456197e-01],\n",
       "       [  1.29243444e-02],\n",
       "       [  1.92805217e-02],\n",
       "       [  1.04114628e-01],\n",
       "       [  7.14391045e-03],\n",
       "       [  2.80223055e-01],\n",
       "       [ -2.77613511e-02],\n",
       "       [ -3.20636860e+02],\n",
       "       [ -1.87675501e-01],\n",
       "       [  1.20153160e-01],\n",
       "       [  7.45926200e-02],\n",
       "       [  6.22912124e+01],\n",
       "       [ -8.00284480e-04],\n",
       "       [ -8.11540982e-04],\n",
       "       [  6.14322549e+01],\n",
       "       [ -6.52146153e-04],\n",
       "       [  2.55788788e-03],\n",
       "       [  1.00389486e-01],\n",
       "       [  9.43326598e-04],\n",
       "       [ -4.78438671e-02],\n",
       "       [  5.46733536e-02],\n",
       "       [ -3.73249553e-02],\n",
       "       [  5.84626499e-04],\n",
       "       [  2.49121185e-04],\n",
       "       [ -1.82119810e-02],\n",
       "       [  1.51617615e-03],\n",
       "       [ -1.61520971e-03],\n",
       "       [  2.71568882e+02]])"
      ]
     },
     "execution_count": 133,
     "metadata": {},
     "output_type": "execute_result"
    }
   ],
   "source": [
    "w_lq, loss_lq = least_squares(y_train, tx_train)\n",
    "w_lq"
   ]
  },
  {
   "cell_type": "markdown",
   "metadata": {},
   "source": [
    "# Cross Validation"
   ]
  },
  {
   "cell_type": "code",
   "execution_count": 40,
   "metadata": {},
   "outputs": [
    {
     "name": "stderr",
     "output_type": "stream",
     "text": [
      "Widget Javascript not detected.  It may not be installed or enabled properly.\n"
     ]
    },
    {
     "data": {
      "application/vnd.jupyter.widget-view+json": {
       "model_id": "c404cbf932fb45429e131ce9d2a8da9a"
      }
     },
     "metadata": {},
     "output_type": "display_data"
    },
    {
     "name": "stdout",
     "output_type": "stream",
     "text": [
      "D:  30 N:  187500\n",
      "D:  30 N:  187500\n",
      "D:  30 N:  187500\n",
      "D:  30 N:  187500\n",
      "\n",
      "0.671952\n",
      "[[ 0.01182765]\n",
      " [-0.25521394]\n",
      " [-0.2619219 ]\n",
      " [ 0.01215252]\n",
      " [ 0.02273516]\n",
      " [ 0.09867168]\n",
      " [ 0.00454805]\n",
      " [ 0.28112265]\n",
      " [-0.02805849]\n",
      " [ 0.03470048]\n",
      " [-0.18813786]\n",
      " [ 0.11875323]\n",
      " [ 0.07343079]\n",
      " [ 0.17560814]\n",
      " [ 0.00091612]\n",
      " [-0.00049536]\n",
      " [ 0.27957327]\n",
      " [-0.00223749]\n",
      " [ 0.00319966]\n",
      " [ 0.1028472 ]\n",
      " [ 0.0012875 ]\n",
      " [-0.04965038]\n",
      " [ 0.04900965]\n",
      " [-0.04130171]\n",
      " [ 0.00121271]\n",
      " [ 0.00228446]\n",
      " [-0.02113161]\n",
      " [ 0.00113255]\n",
      " [-0.00196027]\n",
      " [-0.06182037]]\n"
     ]
    },
    {
     "data": {
      "image/png": "[encoded data removed]",
      "text/plain": [
       "<matplotlib.figure.Figure at 0x186451ba8>"
      ]
     },
     "metadata": {},
     "output_type": "display_data"
    }
   ],
   "source": [
    "from implementations import build_k_indices\n",
    "from tqdm import tqdm_notebook\n",
    "from matplotlib.pyplot import figure, show\n",
    "from matplotlib.ticker import MaxNLocator\n",
    "import matplotlib.patches as mpatches\n",
    "\n",
    "def cross_validation_demo():\n",
    "    seed = 3\n",
    "    k_fold = 4\n",
    "    #lambdas = np.logspace(-3, 1, 10)\n",
    "    initial_w = init_w(tx_train)\n",
    "    max_iters = 300\n",
    "    gamma = 0.7\n",
    "    k_indices = build_k_indices(y_train, k_fold, seed)\n",
    "    results = []\n",
    "    #for lambda_ in tqdm_notebook(lambdas):\n",
    "    lambda_= 0.00001\n",
    "    accs = []\n",
    "    for k in tqdm_notebook(range(k_fold)):\n",
    "        w_tr, acc = cross_validation(y_train, tx_train.T, initial_w,\n",
    "                                     max_iters,  k_indices, k, gamma, lambda_, LOWER_BOUND, UPPER_BOUND)\n",
    "        accs.append(acc)\n",
    "    acc_mean = np.mean(accs)\n",
    "    results.append(acc_mean)\n",
    "    print(acc_mean)\n",
    "    print(w_tr)\n",
    "    \n",
    "    fig = plt.subplots(1, 1, figsize=(10,5))\n",
    "    plt.plot(range(1,k_fold+1), accs, marker=\".\", color='b', label='accuracy')\n",
    "    plt.axhline(y=acc_mean, color='r', label='mean')\n",
    "    ax = plt.gca()\n",
    "    ax.xaxis.set_major_locator(MaxNLocator(integer=True))\n",
    "    plt.xlabel(\"k\")\n",
    "    plt.ylabel(\"accuracy\")\n",
    "    plt.title(\"k-fold accuracy\")\n",
    "    plt.legend(loc=2)\n",
    "    plt.grid(True)\n",
    "    plt.show()\n",
    "\n",
    "cross_validation_demo()"
   ]
  },
  {
   "cell_type": "markdown",
   "metadata": {},
   "source": [
    "# Predict labels"
   ]
  },
  {
   "cell_type": "code",
   "execution_count": 101,
   "metadata": {
    "collapsed": true
   },
   "outputs": [],
   "source": [
    "from proj1_helpers import predict_labels_kaggle"
   ]
  },
  {
   "cell_type": "code",
   "execution_count": 134,
   "metadata": {},
   "outputs": [],
   "source": [
    "y_pred = predict_labels_kaggle(w_lq, tx_test.T, LOWER_BOUND, UPPER_BOUND)"
   ]
  },
  {
   "cell_type": "markdown",
   "metadata": {},
   "source": [
    "# Submission"
   ]
  },
  {
   "cell_type": "code",
   "execution_count": 122,
   "metadata": {
    "collapsed": true
   },
   "outputs": [],
   "source": [
    "from proj1_helpers import create_csv_submission"
   ]
  },
  {
   "cell_type": "code",
   "execution_count": 135,
   "metadata": {},
   "outputs": [],
   "source": [
    "create_csv_submission(ids_test, y_pred, \"test8.csv\")"
   ]
  },
  {
   "cell_type": "markdown",
   "metadata": {},
   "source": [
    "Test n : algorithm / features / y / w\n",
    "- - - - - - - - - - - - - - - - - - - \n",
    "Test 1 : least_squares / all features standardized / y = -1,1 / random init_w\n",
    "\n",
    "Test 2 : least_squares / corr > 0.1 features standardized / y = -1,1 / random init_w\n",
    "\n",
    "Test 3 : least_squares_GD(10000,0.5) / all features standardized / y = -1,1 / random init_w\n",
    "\n",
    "Test 4 : least_squares_GD(10000,0.5) / all features standardized / y = -1,1 / random init_w / poly, degree=1\n",
    "\n",
    "Test 5 : least_squares / all features standardized / y = -1,1 / random init_w / median + categorical\n",
    "\n",
    "Test 6 : logistic_regressoin  /all features standardized / y = 0,1 / random init_w / median + categorical + balanced\n",
    "\n",
    "Test 7 : least_squares / all features standardized / y = 0,1 / random init_w\n",
    "\n",
    "Test 8 : Test 1"
   ]
  },
  {
   "cell_type": "markdown",
   "metadata": {},
   "source": [
    "## Further work"
   ]
  },
  {
   "cell_type": "markdown",
   "metadata": {},
   "source": [
    "- balance output (batch numpy)\n",
    "- median and category\n",
    "- features engineering : features d'intéraction\n",
    "- logistic regression "
   ]
  }
 ],
 "metadata": {
  "kernelspec": {
   "display_name": "Python 3",
   "language": "python",
   "name": "python3"
  },
  "language_info": {
   "codemirror_mode": {
    "name": "ipython",
    "version": 3
   },
   "file_extension": ".py",
   "mimetype": "text/x-python",
   "name": "python",
   "nbconvert_exporter": "python",
   "pygments_lexer": "ipython3",
   "version": "3.5.3"
  }
 },
 "nbformat": 4,
 "nbformat_minor": 2
}
